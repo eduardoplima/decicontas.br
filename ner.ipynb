{
 "cells": [
  {
   "cell_type": "markdown",
   "id": "69b0cd78",
   "metadata": {},
   "source": [
    "# Named Entity Recognition for the decicontas.br dataset"
   ]
  },
  {
   "cell_type": "code",
   "execution_count": 144,
   "id": "7f3fc11b",
   "metadata": {},
   "outputs": [],
   "source": [
    "import re\n",
    "import ast\n",
    "import json\n",
    "\n",
    "import pandas as pd\n",
    "\n",
    "from typing import List, Tuple\n",
    "from langchain_openai import  AzureChatOpenAI\n",
    "from langchain.prompts import PromptTemplate\n",
    "from langchain_core.prompts import StringPromptTemplate\n",
    "from langchain_core.output_parsers import StrOutputParser\n",
    "from sklearn.metrics import precision_score, recall_score, f1_score\n",
    "from tools.schema import (\n",
    "    Entidade, \n",
    "    NERResposta\n",
    ")\n",
    "from dotenv import load_dotenv\n",
    "\n",
    "load_dotenv()\n",
    "\n",
    "llm_azure_gpt_4o = AzureChatOpenAI(model_name=\"gpt-4o\")"
   ]
  },
  {
   "cell_type": "code",
   "execution_count": 117,
   "id": "654728ad",
   "metadata": {},
   "outputs": [],
   "source": [
    "df = pd.read_json(\"dataset/labeled_data/fewshot_decicontas.json\")\n",
    "df_fewshot = df[['annotations', 'data']]\n",
    "\n",
    "EXEMPLOS = \"\"\"\n",
    "\"\"\"\n",
    "\n",
    "for _, row in df_fewshot.iterrows():\n",
    "    texto = row['data']['text']\n",
    "    entidades = json.dumps([x['value'] for x in row['annotations'][0]['result']])\n",
    "    EXEMPLOS += f\"Texto: {texto}\\nEntidades extraídas: {entidades}\\n\"\n",
    "EXEMPLOS += \"Texto: {input}\\nEntidades extraídas: \\n\""
   ]
  },
  {
   "cell_type": "code",
   "execution_count": 118,
   "id": "c7a3f713",
   "metadata": {},
   "outputs": [
    {
     "name": "stdout",
     "output_type": "stream",
     "text": [
      "\n",
      "Texto:                                 DECIDEM os Conselheiros do Tribunal de Contas do Estado, à unanimidade, em consonância com a informação do Corpo Técnico e com o parecer do Ministério Público que atua junto a esta Corte de Contas, acolhendo integralmente o voto do Conselheiro Relator, julgar: a) pela DENEGAÇÃO DE REGISTRO ao ato concessivo da aposentadoria e à despesa dele decorrente; b) pela determinação ao IPERN, à vista da Lei Complementar Estadual nº 547/2015, para que, no prazo de 60 (sessenta) dias, após o trânsito em julgado desta decisão, adote as correções necessárias para regularização do ato concessório, do cálculo dos proventos e de sua respectiva implantação; c) no caso de descumprimento da presente decisão, a responsabilização do titular da pasta responsável por seu atendimento, sem prejuízo da multa cominatória desde já fixada no valor de R$ 50,00 (cinquenta reais) por dia que superar o interregno fixado no item `b`, com base no art. 110 da Lei Complementar Estadual nº 464/2012, valor este passível de revisão e limitado ao teto previsto no art. 323, inciso II, alínea `f`, do Regimento Interno, a ser apurado por ocasião de eventual subsistência de mora.\n",
      "Entidades extraídas: [{\"start\": 395, \"end\": 1184, \"text\": \"determina\\u00e7\\u00e3o ao IPERN, \\u00e0 vista da Lei Complementar Estadual n\\u00ba 547/2015, para que, no prazo de 60 (sessenta) dias, ap\\u00f3s o tr\\u00e2nsito em julgado desta decis\\u00e3o, adote as corre\\u00e7\\u00f5es necess\\u00e1rias para regulariza\\u00e7\\u00e3o do ato concess\\u00f3rio, do c\\u00e1lculo dos proventos e de sua respectiva implanta\\u00e7\\u00e3o; c) no caso de descumprimento da presente decis\\u00e3o, a responsabiliza\\u00e7\\u00e3o do titular da pasta respons\\u00e1vel por seu atendimento, sem preju\\u00edzo da multa cominat\\u00f3ria desde j\\u00e1 fixada no valor de R$ 50,00 (cinquenta reais) por dia que superar o interregno fixado no item `b`, com base no art. 110 da Lei Complementar Estadual n\\u00ba 464/2012, valor este pass\\u00edvel de revis\\u00e3o e limitado ao teto previsto no art. 323, inciso II, al\\u00ednea `f`, do Regimento Interno, a ser apurado por ocasi\\u00e3o de eventual subsist\\u00eancia de mora.\", \"labels\": [\"OBRIGACAO_MULTA\"]}]\n",
      "Texto:                               \n",
      "                       Vistos, relatados e discutidos estes autos do incidente de nulidade absoluta apresentado pelo gestor responsável, por intermédio de procurador habilitado, onde suscita cerceamento de defesa do Município de Portalegre, além de prescrição quinquenal e prescrição intercorrente, pugnando pelo arquivamento dos autos. Considerando parcialmente o parecer do Ministério Público junto a esta Corte, ACORDAM os Conselheiros, nos termos do voto proferido pelo Conselheiro Relator, julgar pelo conhecimento do incidente de fls.1.703/1.719, para dar-lhe provimento parcial, apenas no tocante ao reconhecimento do cerceamento de defesa da Prefeitura Municipal de Portalegre, pela ausência de citação do referido órgão para que pudesse se defender da obrigação que lhe foi imposta de apresentação de plano para remanejamento de recursos. Em razão dessa nulidade processual, reconhecendo, de ofício, a ocorrência da prescrição quinquenal sobre tal obrigação de fazer, com fulcro no caput do art.111 da Lei Complementar Estadual nº 464/2012, e ainda, mantendo incólumes os demais pontos da decisão já transitada em julgado, em relação ao gestor responsável, senhor Manoel Freitas Neto, por fim, determinando a instauração de procedimento autônomo de execução, no tocante às condenações remanescentes.\n",
      "Entidades extraídas: []\n",
      "Texto:                               \n",
      "\n",
      "                                      Vistos, relatados e discutidos estes autos da aposentadoria voluntária, por tempo de contribuição, com proventos proporcionais, concedida à servidora Francisca Lima da Silva, no cargo de Auxiliar de Serviços Gerais, do quadro de pessoal do Município de Alexandria, considerando a manifestação emitida pelo Corpo Técnico e do parecer do Ministério Público junto a esta Corte, ACORDAM os Conselheiros, nos termos do voto proferido pelo Conselheiro Relator, julgar pela DENEGAÇÃO do registro do ato concessivo de aposentadoria em foco, nos termos do artigo 53, inciso III, da Constituição Estadual e do artigo 1º, inciso III, da Lei Complementar nº 464/2012, visto que as irregularidades suscitadas no bojo do processo não foram sanadas; com APLICAÇÃO DE MULTA no valor de R$600,00 (seiscentos reais) ao gestor responsável pelo Instituto de Previdência do Município de Alexandria - IPAMA, à época dos fatos, o senhor Francisco Marcolino Neto,  nos termos do art. 107, inciso II, alínea f, da Lei Complementar Estadual nº 464/12, pelo descumprimento de determinação do Tribunal (Decisão nº 2849/2012-TC); pela INTIMAÇÃO da referida autoridade competente, a fim de que tome conhecimento desta Decisão e, se for o caso, apresentem recurso no prazo regimental; e ainda, pela RENOVAÇÃO DA DETERMINAÇÃO constante na decisão retro, estipulando o prazo de 60 (sessenta) dias, para que o IPAMA, no seu atual gestor, regularize a situação noticiada nos autos, sob pena de sanção prevista no artigo 101, parágrafo único, c/c artigo 110, da Lei Complementar Estadual nº 464/2012.\n",
      "\n",
      "Entidades extraídas: [{\"start\": 824, \"end\": 1172, \"text\": \"MULTA no valor de R$600,00 (seiscentos reais) ao gestor respons\\u00e1vel pelo Instituto de Previd\\u00eancia do Munic\\u00edpio de Alexandria - IPAMA, \\u00e0 \\u00e9poca dos fatos, o senhor Francisco Marcolino Neto, nos termos do art. 107, inciso II, al\\u00ednea f, da Lei Complementar Estadual n\\u00ba 464/12, pelo descumprimento de determina\\u00e7\\u00e3o do Tribunal (Decis\\u00e3o n\\u00ba 2849/2012-TC);\", \"labels\": [\"MULTA_FIXA\"]}]\n",
      "Texto:                           Vistos, relatados e discutidos estes autos da Representação formulada pela Diretoria de Despesa com Pessoal, solicitando a adoção de medidas cautelares, em desfavor da Câmara Municipal de Monte Alegre/RN, concernente à remuneração de agentes políticos, considerando em parte a manifestação emitida pelo Corpo Técnico e do parecer do Ministério Público junto a esta Corte, ACORDAM os Conselheiros, nos termos do voto proferido pelo Conselheiro Relator, julgar: a)pela perda parcial do Objeto da Representação, em virtude da revogação da norma municipal ofensiva ao art. 29 da CF;)irregularidade da matéria afeta à Gestão do Ex-Presidente da Câmara de Vereadores, Sr. Giodano Bruno de Castro Galvão, na forma do art. 75, II da Lei Complementar n°464/2012; c)aplicação de multa ao Sr. Giodano Bruno de Castro Galvão pelas infrações legais detalhadas na fundamentação, com fulcro no art. 107, II, “b”, da LCE 464/12; c/c art. 323, II, “b” e §4º do mesmo artigo  da Res. 009/2012-TCE, com base no valor mínimo de 30% sobre o valor máximo, atualizado pela Portaria 104/2017-GP/TCE, de 14/02/2017, o que importa na quantia de R$4.172,49 (quatro mil, cento e setenta e dois reais e quarenta e nove centavos); e d)\texpedição de recomendação para a atual Gestão da Câmara Municipal de Monte Alegre para que adote as providências necessárias ao cumprimento das exigências previstas nos arts. 16, 17 e 21 da Lei de Responsabilidade Fiscal, inclusive com o reconhecimento da nulidade do aumento concedido caso se comprove a sua incompatibilidade com as exigências legais e com os limites constitucionais.\n",
      "Entidades extraídas: [{\"start\": 795, \"end\": 1225, \"text\": \"multa ao Sr. Giodano Bruno de Castro Galv\\u00e3o pelas infra\\u00e7\\u00f5es legais detalhadas na fundamenta\\u00e7\\u00e3o, com fulcro no art. 107, II, \\u201cb\\u201d, da LCE 464/12; c/c art. 323, II, \\u201cb\\u201d e \\u00a74\\u00ba do mesmo artigo da Res. 009/2012-TCE, com base no valor m\\u00ednimo de 30% sobre o valor m\\u00e1ximo, atualizado pela Portaria 104/2017-GP/TCE, de 14/02/2017, o que importa na quantia de R$4.172,49 (quatro mil, cento e setenta e dois reais e quarenta e nove centavos)\", \"labels\": [\"MULTA_PERCENTUAL\"]}, {\"start\": 1245, \"end\": 1617, \"text\": \"recomenda\\u00e7\\u00e3o para a atual Gest\\u00e3o da C\\u00e2mara Municipal de Monte Alegre para que adote as provid\\u00eancias necess\\u00e1rias ao cumprimento das exig\\u00eancias previstas nos arts. 16, 17 e 21 da Lei de Responsabilidade Fiscal, inclusive com o reconhecimento da nulidade do aumento concedido caso se comprove a sua incompatibilidade com as exig\\u00eancias legais e com os limites constitucionais.\", \"labels\": [\"RECOMENDACAO\"]}]\n",
      "Texto:                      Vistos, relatados e discutidos estes autos dos pedidos de reconsideração interpostos pelos Srs. Nídia Mesquita e João Alves de Carvalho Bastos, Diretores Presidentes à época da CEASA, contra o Acórdão nº 133/2018-TC, que materializou o julgamento pela irregularidade da matéria, com imputação de ressarcimento e multas aos responsáveis ante a presença de falhas formais e materiais, em consonância com o parecer do Ministério Público junto a esta Corte, por maioria, vencido o voto vista solicitado pelo Exmo. Sr. Conselheiro Antônio Gilberto de Oliveira Jales, ACORDAM os Conselheiros, nos termos do voto proferido pela Conselheira Relatora, julgar pelo conhecimento e desprovimento dos pedidos de reconsideração interpostos pelos Srs. João Alves de Carvalho Bastos e Nídia Mesquita, mantendo-se o Acórdão recorrido em todos os seus termos.\n",
      "\n",
      "Entidades extraídas: []\n",
      "Texto:              Vistos, relatados e discutidos estes autos da análise de documentação e balancetes do FUNDEF referente aos meses de janeiro a dezembro de 1998 da Prefeitura Municipal de Tangará/RN, considerando parcialmente a manifestação emitida pelo Corpo Técnico, (discordando deste com relação ao remanejamento, ante a prescrição)  e integralmente o parecer do Ministério Público junto a esta Corte, ACORDAM os Conselheiros, nos termos do voto proferido pelo Conselheiro Relator, julgar: a) pela irregularidade da matéria, nos termos do artigo 78, incisos II e IV da Lei Complementar nº121/94, b) pela condenação do gestor responsável, Senhor Giovannu César Pinheiro e Alves, ao ressarcimento da quantia R$ 6.583,99 (seis mil, quinhentos e oitenta e três reais e noventa e nove centavos) referente ao pagamento de encargos moratórios gerados por juros e multa do FGTS e INSS, c) pelo reconhecimento da prescrição decenária da pretensão punitiva no que tange ao remanejamento e aplicação de multa, como matéria de ordem pública e prejudicial de mérito, nos termos do art. 170, caput, da Lei Complementar nº 464/2012.\n",
      "Entidades extraídas: [{\"start\": 644, \"end\": 877, \"text\": \"Giovannu C\\u00e9sar Pinheiro e Alves, ao ressarcimento da quantia R$ 6.583,99 (seis mil, quinhentos e oitenta e tr\\u00eas reais e noventa e nove centavos) referente ao pagamento de encargos morat\\u00f3rios gerados por juros e multa do FGTS e INSS, \", \"labels\": [\"RESSARCIMENTO\"]}]\n",
      "Texto:             \n",
      "\n",
      "                Vistos, relatados e discutidos estes autos do Convênio nº 03/2003 – SIN, firmado entre a Secretaria de Estado da Infraestrutura – SIN, e a Prefeitura Municipal de Tenente Ananias, que teve por objeto o repasse de recursos financeiros destinados à serviços de drenagem e pavimentação de ruas no município. Considerando a manifestação emitida pelo Corpo Técnico e parecer do Ministério Público junto a esta Corte, ACORDAM os Conselheiros, nos termos do voto proferido pelo Conselheiro Relator, julgar pela IRREGULARIDADE das contas do município de Tenente Ananias, relativamente à aplicação dos recursos recebidos através do Convênio nº 003/2003 – SIN, nos termos do art. 75, incisos II e IV, da Lei Complementar nº 464/2012, com aplicação das seguintes obrigações e penalidades à gestora Maria José Jácome da Silva, todas de conformidade com o art. 78, § 3º, alíneas ‘a’ e ‘b’, c/c art. 102, incisos I e II, da Lei Complementar Estadual nº 121/94, norma vigente à época dos fatos; com restituição aos cofres públicos estaduais da quantia de R$ 6.522,30 (seis mil quinhentos e vinte e dois reais e trinta centavos), a serem devidamente atualizados a partir da data do pagamento da despesa e com aplicação dos juros devidos, em solidariedade com a empresa contratada para execução das obras, Horebe Comércio e Serviços Ltda; e multa aos responsáveis solidários no percentual de 30% (trinta por cento), calculada sobre o valor atualizado da restituição; e a gestora responsável no valor de R$ 500,00 (quinhentos reais) cada, no total de 03 (três), totalizando R$ 1.500,00 (mil e quinhentos reais), em função das irregularidades formais praticadas.\n",
      "\n",
      "Entidades extraídas: [{\"start\": 1356, \"end\": 1674, \"text\": \"multa aos respons\\u00e1veis solid\\u00e1rios no percentual de 30% (trinta por cento), calculada sobre o valor atualizado da restitui\\u00e7\\u00e3o; e a gestora respons\\u00e1vel no valor de R$ 500,00 (quinhentos reais) cada, no total de 03 (tr\\u00eas), totalizando R$ 1.500,00 (mil e quinhentos reais), em fun\\u00e7\\u00e3o das irregularidades formais praticadas\", \"labels\": [\"MULTA_PERCENTUAL\"]}, {\"start\": 819, \"end\": 1352, \"text\": \"Maria Jos\\u00e9 J\\u00e1come da Silva, todas de conformidade com o art. 78, \\u00a7 3\\u00ba, al\\u00edneas \\u2018a\\u2019 e \\u2018b\\u2019, c/c art. 102, incisos I e II, da Lei Complementar Estadual n\\u00ba 121/94, norma vigente \\u00e0 \\u00e9poca dos fatos; com restitui\\u00e7\\u00e3o aos cofres p\\u00fablicos estaduais da quantia de R$ 6.522,30 (seis mil quinhentos e vinte e dois reais e trinta centavos), a serem devidamente atualizados a partir da data do pagamento da despesa e com aplica\\u00e7\\u00e3o dos juros devidos, em solidariedade com a empresa contratada para execu\\u00e7\\u00e3o das obras, Horebe Com\\u00e9rcio e Servi\\u00e7os Ltda\", \"labels\": [\"RESSARCIMENTO\"]}]\n",
      "Texto:          \n",
      "\n",
      "                     Vistos, relatados e discutidos estes autos da apuração de responsabilidade quanto à inadimplência e atraso na remessa de dados do Sistema Integrado de Auditoria Informatizada de Despesa de Pessoal-SIAI-DP da Câmara Municipal de Monte Alegre/RN, referente ao período de janeiro de 2013 a junho de 2014, discordando em parte do posicionamento do Corpo Instrutivo e do parecer do Ministério Público Especial apenas com relação ao valor da sanção, ACORDAM os Conselheiros, nos termos do voto proferido pelo Conselheiro Relator, julgar pela irregularidade da matéria, com fulcro no art.75, II, da LCE 464/12, com a aplicação de multa no valor de R$3.129,30(três mil, cento e vinte e nove reais e trinta centavos), sendo arbitrada a quantia de R$ 173,85(cento e setenta e três reais e oitenta e cincos centavos) por cada mês de atraso, na forma do art.107, inciso II,`f`, da Lei Complementar nº464/2012 c/c art.323, II,`f` e § 2º do Regimento Interno, ao Sr. Heriberto de Carvalho Chagas, Presidente da Câmara Municipal de Monte Alegre/RN, à época, pelo descumprimento do art.12 da Resolução nº030/2012-TCE/RN, uma vez comprovado o atraso no envio de informações requeridas pelo SIAI-DP relativas aos meses de janeiro de 2013 a junho de 2014, e registrando por fim, que os fatos apurados não constituem ato doloso de improbidade administrativa, para fins do art.1º, inciso I, alínea “g”, da Lei Complementar n.64/1990(com redação dada pela Lei Complementar n.135/2010), em conformidade com a RECOMENDAÇÃO CONJUNTA n.01/2012, expedida pelo Ministério Público Eleitoral, juntamente com o Ministério Público de Contas.\n",
      "Entidades extraídas: [{\"start\": 657, \"end\": 1643, \"text\": \"multa no valor de R$3.129,30(tr\\u00eas mil, cento e vinte e nove reais e trinta centavos), sendo arbitrada a quantia de R$ 173,85(cento e setenta e tr\\u00eas reais e oitenta e cincos centavos) por cada m\\u00eas de atraso, na forma do art.107, inciso II,`f`, da Lei Complementar n\\u00ba464/2012 c/c art.323, II,`f` e \\u00a7 2\\u00ba do Regimento Interno, ao Sr. Heriberto de Carvalho Chagas, Presidente da C\\u00e2mara Municipal de Monte Alegre/RN, \\u00e0 \\u00e9poca, pelo descumprimento do art.12 da Resolu\\u00e7\\u00e3o n\\u00ba030/2012-TCE/RN, uma vez comprovado o atraso no envio de informa\\u00e7\\u00f5es requeridas pelo SIAI-DP relativas aos meses de janeiro de 2013 a junho de 2014, e registrando por fim, que os fatos apurados n\\u00e3o constituem ato doloso de improbidade administrativa, para fins do art.1\\u00ba, inciso I, al\\u00ednea \\u201cg\\u201d, da Lei Complementar n.64/1990(com reda\\u00e7\\u00e3o dada pela Lei Complementar n.135/2010), em conformidade com a RECOMENDA\\u00c7\\u00c3O CONJUNTA n.01/2012, expedida pelo Minist\\u00e9rio P\\u00fablico Eleitoral, juntamente com o Minist\\u00e9rio P\\u00fablico de Contas.\", \"labels\": [\"MULTA_FIXA\"]}]\n",
      "Texto:          DECIDEM os Conselheiros do Tribunal de Contas do Estado, à unanimidade, em consonância com a informação do Corpo Técnico, e do parecer do Ministério Público que atua junto a esta Corte de Contas, acolhendo integralmente o voto da Conselheira Relatora, julgar com fulcro no art. 312, §4º, do Regimento Interno desta Corte, pelo PREJUÍZO DO EXAME de mérito da aposentadoria, em decorrência do falecimento da servidora, e ainda, pela denegação de registro ao ato de pensão em análise, nos termos do art. 71, III, da Constituição Federal, art. 53, III, da Constituição do Estado e arts. 1º, III e 95, III, da Lei Complementar Estadual nº 464/12, determinando após o trânsito em julgado da decisão,  a intimação do IPERN para que, em 60 (sessenta) dias, adote as medidas regularizadoras cabíveis, sob pena de estabelecimento de multa diária em face do gestor responsável, que desde já fixado em R$ 50,00 (cinquenta) reais por cada dia de atraso que exceder ao prazo acima consignado, valor este passível de revisão e limitado ao teto previsto no art. 323, inciso II, alínea `f`, do Regimento Interno, a ser apurado por ocasião de eventual subsistência de mora.\n",
      "Entidades extraídas: [{\"start\": 651, \"end\": 1164, \"text\": \"determinando ap\\u00f3s o tr\\u00e2nsito em julgado da decis\\u00e3o, a intima\\u00e7\\u00e3o do IPERN para que, em 60 (sessenta) dias, adote as medidas regularizadoras cab\\u00edveis, sob pena de estabelecimento de multa di\\u00e1ria em face do gestor respons\\u00e1vel, que desde j\\u00e1 fixado em R$ 50,00 (cinquenta) reais por cada dia de atraso que exceder ao prazo acima consignado, valor este pass\\u00edvel de revis\\u00e3o e limitado ao teto previsto no art. 323, inciso II, al\\u00ednea `f`, do Regimento Interno, a ser apurado por ocasi\\u00e3o de eventual subsist\\u00eancia de mora.\", \"labels\": [\"OBRIGACAO_MULTA\"]}]\n",
      "Texto:          Vistos, relatados e discutidos estes autos de Representação apresentada pela Diretoria de Despesa com Pessoal - DDP, Unidade Técnica desta Corte de Contas, em face da Prefeitura Municipal de Mossoró/RN, referente à remuneração dos agentes políticos, notadamente o Prefeito e Vice Prefeito, para o período 2017 a 2020, que teve como base a Lei Municipal n.º 3.439/2016, ACORDAM os Conselheiros, nos termos do voto proposto pelo Conselheiro Relator, julgar:\n",
      " a) Pela NEGATIVA da aplicação da Lei Municipal nº 3.439/2016, em virtude dos vícios de inconstitucionalidade, com fundamento na Súmula nº 347 do STF, bem como na Lei Orgânica 464/2012 (arts. 142 e seguintes) e no Regimento Interno do TCERN (arts. 403 e seguintes); \n",
      "b) Pela DETERMINAÇÃO a atual gestora do Município de Mossoró, que continue se abstendo de pagar os subsídios do Prefeito e Vice-Prefeito com base na Lei nº 3.439/2016 daquele Município – cuja aplicação ora se nega, sob pena de multa pessoal de R$ 10.000,00 (dez mil reais) ao Gestor do Executivo do Município de Mossoró por cada mês em que descumprida a presente ordem, devendo os agentes políticos (Prefeito e Vice-Prefeito) continuarem sendo remunerados com base nos subsídios fixados na Lei Municipal anterior;\n",
      "c) Pela DETERMINAÇÃO à Diretoria de Atos e Execução – DAE deste Tribunal que proceda com a intimação da Prefeita Municipal de Mossoró/RN, Sra. Rosalba Ciarlini Rosado, para ciência e cumprimento desta Decisão, fixando prazo de 15 (quinze) dias a contar de sua intimação, para que comprova a edição de ato formal, em cumprimento da determinação estabelecida na letra “b”, a fim de que continue se abstendo de aplicar a Lei nº 3.439/2016 daquele Município (tal ato formal deve abranger os subsídios tanto do Prefeito como do Vice-Prefeito); \n",
      "d) Pela abertura de processo de apuração de responsabilidade contra os responsáveis pelo Poder Executivo e Poder legislativo à época da Edição da Lei Municipal nº 3.439/2016; e\n",
      "e) Pela RECOMENDAÇÃO ao Poder Executivo e Legislativo do Município de Mossoró/RN, nas pessoas de seus representantes legais, para que da edição de nova lei municipal que aborde aumento de despesa com pessoal, que seja precedida de estudo de impacto financeiro e orçamentário e que sejam observados os prazos e mandamentos da Constituição Federal e da LRF.\n",
      "\n",
      "Entidades extraídas: [{\"start\": 742, \"end\": 1247, \"text\": \"DETERMINA\\u00c7\\u00c3O a atual gestora do Munic\\u00edpio de Mossor\\u00f3, que continue se abstendo de pagar os subs\\u00eddios do Prefeito e Vice-Prefeito com base na Lei n\\u00ba 3.439/2016 daquele Munic\\u00edpio \\u2013 cuja aplica\\u00e7\\u00e3o ora se nega, sob pena de multa pessoal de R$ 10.000,00 (dez mil reais) ao Gestor do Executivo do Munic\\u00edpio de Mossor\\u00f3 por cada m\\u00eas em que descumprida a presente ordem, devendo os agentes pol\\u00edticos (Prefeito e Vice-Prefeito) continuarem sendo remunerados com base nos subs\\u00eddios fixados na Lei Municipal anterior;\", \"labels\": [\"OBRIGACAO_MULTA\"]}, {\"start\": 1257, \"end\": 1787, \"text\": \"DETERMINA\\u00c7\\u00c3O \\u00e0 Diretoria de Atos e Execu\\u00e7\\u00e3o \\u2013 DAE deste Tribunal que proceda com a intima\\u00e7\\u00e3o da Prefeita Municipal de Mossor\\u00f3/RN, Sra. Rosalba Ciarlini Rosado, para ci\\u00eancia e cumprimento desta Decis\\u00e3o, fixando prazo de 15 (quinze) dias a contar de sua intima\\u00e7\\u00e3o, para que comprova a edi\\u00e7\\u00e3o de ato formal, em cumprimento da determina\\u00e7\\u00e3o estabelecida na letra \\u201cb\\u201d, a fim de que continue se abstendo de aplicar a Lei n\\u00ba 3.439/2016 daquele Munic\\u00edpio (tal ato formal deve abranger os subs\\u00eddios tanto do Prefeito como do Vice-Prefeito);\", \"labels\": [\"OBRIGACAO\"]}, {\"start\": 1976, \"end\": 2323, \"text\": \"RECOMENDA\\u00c7\\u00c3O ao Poder Executivo e Legislativo do Munic\\u00edpio de Mossor\\u00f3/RN, nas pessoas de seus representantes legais, para que da edi\\u00e7\\u00e3o de nova lei municipal que aborde aumento de despesa com pessoal, que seja precedida de estudo de impacto financeiro e or\\u00e7ament\\u00e1rio e que sejam observados os prazos e mandamentos da Constitui\\u00e7\\u00e3o Federal e da LRF.\\\\n\", \"labels\": [\"RECOMENDACAO\"]}]\n",
      "Texto: \tVistos, relatados e discutidos estes autos, ACORDAM os Conselheiros, nos termos do voto vista proferido pelo Excelentíssimo Conselheiro Carlos Thompson Costa Fernandes, julgar no sentido de:\n",
      "a)\tEm relação ao Poder Legislativo do Município de Acari: \n",
      "i.\tPela revogação da medida cautelar arbitrada, para autorizar, especificamente para os cargos relativos à Câmara Municipal, a homologação do concurso público e o seu regular prosseguimento;\n",
      "ii.\tPela imposição de multa ao então presidente da Câmara Municipal, Sr. Leonardo Ferreira de Medeiros, no valor de R$ 4.172,49 (quatro mil, cento e setenta e dois reais e quarenta e nove centavos), fulcrada no art. 107, inciso II, alínea “b”, da Lei Complementar Estadual nº 464/2012, c/c art. 323, inciso II, do Regimento Interno, diante do não envio voluntário do edital do concurso público, exigência prevista no art. 308, do Regimento Interno desta Corte;\n",
      "iii.\tPela obrigação de remeter a este Tribunal de Contas, quando das nomeações, o demonstrativo que certifique a existência de prévia dotação orçamentária suficiente para atender às projeções de despesa com pessoal e aos acréscimos dela decorrentes quando da nomeação dos candidatos aprovados;\n",
      "iv.\tPela obrigação de remeter a este Tribunal de Contas os processos de admissão, com o fito de proceder à análise de sua legalidade, com fins de registro. \n",
      "\n",
      "b)\tEm relação ao Poder Executivo do Município de Acari:\n",
      "i.\tReforçar a medida cautelar proferida nestes autos, com fundamento nos arts. 120 e 121, inciso II, da Lei Complementar Estadual nº 464/2012, c/c o disposto nos arts. 345, e 346, inciso II, do Regimento Interno, com o fito de proibir que o Poder Executivo de Acari proceda à homologação do concurso público deflagrado pelo Edital nº 001/2016, especificamente com relação às suas vagas, enquanto não houver decisão de mérito, devendo realizar a publicação do ato em imprensa oficial no prazo de 10 (dez) dias a partir da ciência desta Decisão, sob pena de multa diária no valor de R$ 500,00 (quinhentos reais), com fundamento no art. 110, da Lei Complementar Estadual nº 464/2012 , c/c o disposto no art. 326, do Regimento Interno ;\n",
      "ii.\tFixar o prazo de 60 (sessenta) dias contados a partir da comunicação desta Decisão para que o Poder Executivo Municipal apresente demonstrativo de despesas com pessoal atualizado, hábil a comprovar a compatibilidade entre o quantitativo de servidores, o número de cargos criados por lei e as vagas disponibilizadas para o preenchimento por concurso, sob pena de multa diária de R$ 100,00 (cem reais), com fundamento no art. 110, da Lei Complementar Estadual nº 464/2012, c/c o disposto no art. 326, do Regimento Interno;\n",
      "iii.\tIgualmente em 60 (sessenta) dias, deve o gestor apresentar documentação hábil a demonstrar a existência de prévia dotação orçamentária, suficiente para atender às projeções de despesa com pessoal advindas do concurso e aos acréscimos dela decorrentes, em nos exatos termos do artigo 169, §1º, inciso I da Constituição Federal, sob pena de multa diária de R$ 100,00 (cem reais), com fundamento no art. 110, da Lei Complementar Estadual nº 464/2012, c/c o disposto no art. 326, do Regimento Interno;\n",
      "iv.\tNo mesmo prazo de 60 (sessenta) dias, deverá juntar aos autos estimativa do impacto considerando as nomeações advindas do concurso público tanto para o exercício em que tais servidores ingressarem, como para os dois subsequentes, sob pena de multa diária de R$ 100,00 (cem reais), com fundamento no art. 110, da Lei Complementar Estadual nº 464/2012, c/c o disposto no art. 326, do Regimento Interno; \n",
      "v.\tApresentar, em 60 (sessenta) dias, declaração do ordenador de despesas sobre o aumento de dispêndio com pessoal e a adequação orçamentária e financeira com a LOA, PPA e a LDO, considerando o efetivo dispêndio com as nomeações dos candidatos aprovados, sob pena de multa diária de R$ 100,00 (cem reais), com fundamento no art. 110, da Lei Complementar Estadual nº 464/2012, c/c o disposto no art. 326, do Regimento Interno;\n",
      "vi.\tDeterminar que se comprove, também em 60 (sessenta) dias, o atendimento aos ditames do artigo 16, I e II, § 2º, c/c o artigo 17, §§ 1º, 2º, 4º e 5º e com o artigo 21, I, da Lei Complementar Federal nº 101/2000, atestando que a despesa criada ou aumentada com o ingresso aprovados não afeta as metas de resultados fiscais previstas no anexo da LDO, sob pena de multa diária de R$ 100,00 (cem reais), com fundamento no art. 110, da Lei Complementar Estadual nº 464/2012, c/c o disposto no art. 326, do Regimento Interno;\n",
      "vii.\tComprovar, em até quatro quadrimestres – contados a partir desta Decisão –, sob pena de ser considerado nulo de pleno direito o concurso público, que o Poder Executivo adotou as medidas para eliminar o percentual excedente do limite prudencial de despesas com pessoal – com a adoção das medidas descritas na Constituição Federal e na LRF –, considerando o disposto nos arts. 20, 22, 23, e 66, todos da Lei de Responsabilidade Fiscal, inclusive com a rescisão de todos os contratos temporários;\n",
      "viii.\tRegularizar, em 60 (sessenta) dias, as informações prestadas ao SIAI-DP, de modo que haja congruência com os dados constantes no Portal da Transparência do Município de Acari, sob pena de multa diária de R$ 100,00 (cem reais), com fundamento no art. 110, da Lei Complementar Estadual nº 464/2012, c/c o disposto no art. 326, do Regimento Interno. \n",
      "ACORDAM, por fim, pela imediata remessa do voto e do Acórdão proferido nestes autos ao Ministério Público Estadual, para ciência e adoção das providências pertinentes no escopo de sua competência.   \n",
      "\n",
      "\n",
      "Entidades extraídas: [{\"start\": 467, \"end\": 904, \"text\": \"multa ao ent\\u00e3o presidente da C\\u00e2mara Municipal, Sr. Leonardo Ferreira de Medeiros, no valor de R$ 4.172,49 (quatro mil, cento e setenta e dois reais e quarenta e nove centavos), fulcrada no art. 107, inciso II, al\\u00ednea \\u201cb\\u201d, da Lei Complementar Estadual n\\u00ba 464/2012, c/c art. 323, inciso II, do Regimento Interno, diante do n\\u00e3o envio volunt\\u00e1rio do edital do concurso p\\u00fablico, exig\\u00eancia prevista no art. 308, do Regimento Interno desta Corte\", \"labels\": [\"MULTA_FIXA\"]}, {\"start\": 917, \"end\": 1199, \"text\": \"obriga\\u00e7\\u00e3o de remeter a este Tribunal de Contas, quando das nomea\\u00e7\\u00f5es, o demonstrativo que certifique a exist\\u00eancia de pr\\u00e9via dota\\u00e7\\u00e3o or\\u00e7ament\\u00e1ria suficiente para atender \\u00e0s proje\\u00e7\\u00f5es de despesa com pessoal e aos acr\\u00e9scimos dela decorrentes quando da nomea\\u00e7\\u00e3o dos candidatos aprovados\", \"labels\": [\"OBRIGACAO\"]}, {\"start\": 1211, \"end\": 1356, \"text\": \"obriga\\u00e7\\u00e3o de remeter a este Tribunal de Contas os processos de admiss\\u00e3o, com o fito de proceder \\u00e0 an\\u00e1lise de sua legalidade, com fins de registro\", \"labels\": [\"OBRIGACAO\"]}, {\"start\": 1646, \"end\": 2149, \"text\": \"proibir que o Poder Executivo de Acari proceda \\u00e0 homologa\\u00e7\\u00e3o do concurso p\\u00fablico deflagrado pelo Edital n\\u00ba 001/2016, especificamente com rela\\u00e7\\u00e3o \\u00e0s suas vagas, enquanto n\\u00e3o houver decis\\u00e3o de m\\u00e9rito, devendo realizar a publica\\u00e7\\u00e3o do ato em imprensa oficial no prazo de 10 (dez) dias a partir da ci\\u00eancia desta Decis\\u00e3o, sob pena de multa di\\u00e1ria no valor de R$ 500,00 (quinhentos reais), com fundamento no art. 110, da Lei Complementar Estadual n\\u00ba 464/2012 , c/c o disposto no art. 326, do Regimento Interno\", \"labels\": [\"OBRIGACAO_MULTA\"]}, {\"start\": 3593, \"end\": 4014, \"text\": \"Apresentar, em 60 (sessenta) dias, declara\\u00e7\\u00e3o do ordenador de despesas sobre o aumento de disp\\u00eandio com pessoal e a adequa\\u00e7\\u00e3o or\\u00e7ament\\u00e1ria e financeira com a LOA, PPA e a LDO, considerando o efetivo disp\\u00eandio com as nomea\\u00e7\\u00f5es dos candidatos aprovados, sob pena de multa di\\u00e1ria de R$ 100,00 (cem reais), com fundamento no art. 110, da Lei Complementar Estadual n\\u00ba 464/2012, c/c o disposto no art. 326, do Regimento Interno\", \"labels\": [\"OBRIGACAO_MULTA\"]}, {\"start\": 4021, \"end\": 4538, \"text\": \"Determinar que se comprove, tamb\\u00e9m em 60 (sessenta) dias, o atendimento aos ditames do artigo 16, I e II, \\u00a7 2\\u00ba, c/c o artigo 17, \\u00a7\\u00a7 1\\u00ba, 2\\u00ba, 4\\u00ba e 5\\u00ba e com o artigo 21, I, da Lei Complementar Federal n\\u00ba 101/2000, atestando que a despesa criada ou aumentada com o ingresso aprovados n\\u00e3o afeta as metas de resultados fiscais previstas no anexo da LDO, sob pena de multa di\\u00e1ria de R$ 100,00 (cem reais), com fundamento no art. 110, da Lei Complementar Estadual n\\u00ba 464/2012, c/c o disposto no art. 326, do Regimento Interno\", \"labels\": [\"OBRIGACAO_MULTA\"]}, {\"start\": 5047, \"end\": 5392, \"text\": \"Regularizar, em 60 (sessenta) dias, as informa\\u00e7\\u00f5es prestadas ao SIAI-DP, de modo que haja congru\\u00eancia com os dados constantes no Portal da Transpar\\u00eancia do Munic\\u00edpio de Acari, sob pena de multa di\\u00e1ria de R$ 100,00 (cem reais), com fundamento no art. 110, da Lei Complementar Estadual n\\u00ba 464/2012, c/c o disposto no art. 326, do Regimento Interno\", \"labels\": [\"OBRIGACAO_MULTA\"]}, {\"start\": 4546, \"end\": 5038, \"text\": \"Comprovar, em at\\u00e9 quatro quadrimestres \\u2013 contados a partir desta Decis\\u00e3o \\u2013, sob pena de ser considerado nulo de pleno direito o concurso p\\u00fablico, que o Poder Executivo adotou as medidas para eliminar o percentual excedente do limite prudencial de despesas com pessoal \\u2013 com a ado\\u00e7\\u00e3o das medidas descritas na Constitui\\u00e7\\u00e3o Federal e na LRF \\u2013, considerando o disposto nos arts. 20, 22, 23, e 66, todos da Lei de Responsabilidade Fiscal, inclusive com a rescis\\u00e3o de todos os contratos tempor\\u00e1rios\", \"labels\": [\"OBRIGACAO\"]}, {\"start\": 2698, \"end\": 3180, \"text\": \"60 (sessenta) dias, deve o gestor apresentar documenta\\u00e7\\u00e3o h\\u00e1bil a demonstrar a exist\\u00eancia de pr\\u00e9via dota\\u00e7\\u00e3o or\\u00e7ament\\u00e1ria, suficiente para atender \\u00e0s proje\\u00e7\\u00f5es de despesa com pessoal advindas do concurso e aos acr\\u00e9scimos dela decorrentes, em nos exatos termos do artigo 169, \\u00a71\\u00ba, inciso I da Constitui\\u00e7\\u00e3o Federal, sob pena de multa di\\u00e1ria de R$ 100,00 (cem reais), com fundamento no art. 110, da Lei Complementar Estadual n\\u00ba 464/2012, c/c o disposto no art. 326, do Regimento Interno\", \"labels\": [\"OBRIGACAO_MULTA\"]}, {\"start\": 2157, \"end\": 2676, \"text\": \"Fixar o prazo de 60 (sessenta) dias contados a partir da comunica\\u00e7\\u00e3o desta Decis\\u00e3o para que o Poder Executivo Municipal apresente demonstrativo de despesas com pessoal atualizado, h\\u00e1bil a comprovar a compatibilidade entre o quantitativo de servidores, o n\\u00famero de cargos criados por lei e as vagas disponibilizadas para o preenchimento por concurso, sob pena de multa di\\u00e1ria de R$ 100,00 (cem reais), com fundamento no art. 110, da Lei Complementar Estadual n\\u00ba 464/2012, c/c o disposto no art. 326, do Regimento Interno\", \"labels\": [\"OBRIGACAO_MULTA\"]}, {\"start\": 3195, \"end\": 3586, \"text\": \" prazo de 60 (sessenta) dias, dever\\u00e1 juntar aos autos estimativa do impacto considerando as nomea\\u00e7\\u00f5es advindas do concurso p\\u00fablico tanto para o exerc\\u00edcio em que tais servidores ingressarem, como para os dois subsequentes, sob pena de multa di\\u00e1ria de R$ 100,00 (cem reais), com fundamento no art. 110, da Lei Complementar Estadual n\\u00ba 464/2012, c/c o disposto no art. 326, do Regimento Interno\", \"labels\": [\"OBRIGACAO_MULTA\"]}]\n",
      "Texto: \n",
      "                     Vistos, relatados e discutidos estes autos de requerimento de Consulta formulado pelo Excelentíssimo Procurador Geral do Município de Natal/RN, Senhor Carlos Santa Rosa D’Albuquerque Castim, por meio do qual indaga: “a) Se os valores oriundos da compensação tributária estariam ou não incluídos dentro do conceito de “receita tributária”, previsto no art. 29-A da Constituição Federal, para cálculo de repasse de duodécimo à Câmara de Vereadores? b) E ainda, se os valores referentes aos créditos tributários compensados – por configurarem apenas registros contábeis – estariam incluídos ou não nos cálculos dos investimentos obrigatórios em educação e saúde, positivados nos art. 198, §2º, III, e art. 212, da Constituição Federal?” em consonância com os pareceres da CONJUR e do MPC, ACORDAM os Conselheiros, nos termos do voto proferido pelo Conselheiro Relator, julgar pelo conhecimento da consulta e no mérito pela concessão de resposta ao consulente, nos termos: a) Sim. Os valores oriundos da compensação tributária estão compreendidos no conceito de receita tributária, de maneira que é possível o seu cômputo na base de cálculo do Duodécimo a ser repassado pelo Poder Executivo ao Poder Legislativo, desde que se refiram aos tributos minudenciados por este Tribunal por meio da Decisão nº 282/2013-TC em sede do Processo nº 004841/2013-TC; b) A compensação de créditos tributários inclui-se no cálculo dos percentuais a serem aplicados em benefício da educação e da saúde, desde que correspondentes aos impostos definidos nos arts. 212 e 198, §2º, III, da CF, respectivamente.\n",
      "Entidades extraídas: []\n",
      "Texto: {input}\n",
      "Entidades extraídas: \n",
      "\n"
     ]
    }
   ],
   "source": [
    "print(EXEMPLOS)"
   ]
  },
  {
   "cell_type": "markdown",
   "id": "f258df55",
   "metadata": {},
   "source": [
    "# Testing with golden labels"
   ]
  },
  {
   "cell_type": "code",
   "execution_count": 76,
   "id": "ffee369f",
   "metadata": {},
   "outputs": [],
   "source": [
    "df_golden = pd.read_json(\"dataset/labeled_data/fewshot_decicontas.json\")"
   ]
  },
  {
   "cell_type": "code",
   "execution_count": 98,
   "id": "273dc857",
   "metadata": {},
   "outputs": [],
   "source": [
    "texts = []\n",
    "ner_labels = []\n",
    "\n",
    "for _, row in df.iterrows():\n",
    "    texto = row['data']['text']\n",
    "    anotacoes = json.dumps([x['value'] for x in row['annotations'][0]['result']])\n",
    "\n",
    "    texts.append(texto)\n",
    "    ner_labels.append(anotacoes)"
   ]
  },
  {
   "cell_type": "code",
   "execution_count": 145,
   "id": "21b8b1e1",
   "metadata": {},
   "outputs": [],
   "source": [
    "# Output parser simples de string\n",
    "output_parser = StrOutputParser()\n",
    "\n",
    "# Cadeia como função com str.format()\n",
    "def run_chain(texto_input: str) -> List[dict]:\n",
    "    prompt = EXEMPLOS.replace(\"{input}\", texto_input)\n",
    "    resposta = output_parser.invoke(llm_azure_gpt_4o.invoke(prompt)).strip()\n",
    "\n",
    "    # Remove blocos markdown e limpa\n",
    "    resposta = re.sub(r\"```json|```\", \"\", resposta).strip()\n",
    "\n",
    "    try:\n",
    "        return ast.literal_eval(resposta)\n",
    "    except Exception as e:\n",
    "        print(f\"[Erro parseando resposta]:\\n{resposta}\\n-> {e}\")\n",
    "        return []"
   ]
  },
  {
   "cell_type": "code",
   "execution_count": 151,
   "id": "21eb9f86",
   "metadata": {},
   "outputs": [],
   "source": [
    "def extract_triples(entity_list: List[dict]) -> List[Tuple[int, int, str]]:\n",
    "    triples = []\n",
    "    for e in entity_list:\n",
    "        label = e[\"labels\"]\n",
    "        if isinstance(label, list):\n",
    "            label = label[0]\n",
    "        triples.append((e[\"start\"], e[\"end\"], label))\n",
    "    return triples\n",
    "\n",
    "def evaluate_ner_llm(texts, golden_labels):\n",
    "    y_true, y_pred = [], []\n",
    "\n",
    "    for i, (text, gold_str) in enumerate(zip(texts, golden_labels)):\n",
    "        try:\n",
    "            gold = ast.literal_eval(gold_str)\n",
    "            gold_triples = extract_triples(gold)\n",
    "\n",
    "            pred = run_chain(text)\n",
    "            pred_triples = extract_triples(pred)\n",
    "\n",
    "            gold_set = set(gold_triples)\n",
    "            pred_set = set(pred_triples)\n",
    "\n",
    "            for ent in pred_set:\n",
    "                y_pred.append(1 if ent in gold_set else 0)\n",
    "            for ent in gold_set:\n",
    "                y_true.append(1 if ent in pred_set else 0)\n",
    "\n",
    "        except Exception as e:\n",
    "            print(f\"[Erro na instância {i}] {e}\")\n",
    "\n",
    "    return {\n",
    "        \"precision\": precision_score(y_true, y_pred, zero_division=0),\n",
    "        \"recall\": recall_score(y_true, y_pred, zero_division=0),\n",
    "        \"f1\": f1_score(y_true, y_pred, zero_division=0),\n",
    "        \"total_gold\": sum(y_true),\n",
    "        \"total_pred\": sum(y_pred),\n",
    "        \"samples\": len(texts)\n",
    "    }"
   ]
  },
  {
   "cell_type": "code",
   "execution_count": 132,
   "id": "fe6666ab",
   "metadata": {},
   "outputs": [
    {
     "name": "stdout",
     "output_type": "stream",
     "text": [
      "[Erro na instância 0] 'label'\n",
      "[Erro na instância 1] '\"start\"'\n",
      "[Erro na instância 2] 'label'\n",
      "[Erro na instância 3] 'label'\n",
      "[Erro na instância 4] '\"start\"'\n",
      "[Erro na instância 5] 'label'\n",
      "[Erro na instância 6] 'label'\n",
      "[Erro na instância 7] 'label'\n",
      "[Erro na instância 8] 'label'\n",
      "[Erro na instância 9] 'label'\n",
      "[Erro na instância 10] 'label'\n",
      "[Erro na instância 11] '\"start\"'\n",
      "{'precision': 0.0, 'recall': 0.0, 'f1': 0.0, 'total_gold': 0, 'total_pred': 0, 'samples': 12}\n"
     ]
    }
   ],
   "source": [
    "results = evaluate_ner_llm(texts, ner_labels)\n",
    "print(results)"
   ]
  },
  {
   "cell_type": "code",
   "execution_count": 152,
   "id": "3c1cd9b2",
   "metadata": {},
   "outputs": [],
   "source": [
    "y_true, y_pred = [], []\n",
    "\n",
    "for i, (text, gold_str) in enumerate(zip(texts, ner_labels)):\n",
    "\n",
    "    gold = ast.literal_eval(gold_str)\n",
    "    gold_triples = extract_triples(gold)\n",
    "\n",
    "    pred = run_chain(text)\n",
    "    pred_triples = extract_triples(pred)\n",
    "\n",
    "    gold_set = set(gold_triples)\n",
    "    pred_set = set(pred_triples)\n",
    "\n",
    "    for ent in pred_set:\n",
    "        y_pred.append(1 if ent in gold_set else 0)\n",
    "    for ent in gold_set:\n",
    "        y_true.append(1 if ent in pred_set else 0)\n",
    "\n",
    "    break\n"
   ]
  },
  {
   "cell_type": "code",
   "execution_count": null,
   "id": "490ff827",
   "metadata": {},
   "outputs": [],
   "source": []
  }
 ],
 "metadata": {
  "kernelspec": {
   "display_name": ".venv",
   "language": "python",
   "name": "python3"
  },
  "language_info": {
   "codemirror_mode": {
    "name": "ipython",
    "version": 3
   },
   "file_extension": ".py",
   "mimetype": "text/x-python",
   "name": "python",
   "nbconvert_exporter": "python",
   "pygments_lexer": "ipython3",
   "version": "3.12.3"
  }
 },
 "nbformat": 4,
 "nbformat_minor": 5
}
