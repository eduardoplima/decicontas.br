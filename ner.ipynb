{
 "cells": [
  {
   "cell_type": "markdown",
   "id": "69b0cd78",
   "metadata": {},
   "source": [
    "# Named Entity Recognition for the decicontas.br dataset\n",
    "\n",
    "This script implements Named Entity Recognition (NER) extraction applied to the **decicontas.br** dataset, which consists of decisions from the Rio Grande do Norte State Court of Accounts (TCE/RN) involving fines, obligations, reimbursements, and recommendations. The solution uses large language models (LLMs) deployed through Azure OpenAI, with integration via `langchain` and `pydantic` for generating structured outputs.\n",
    "\n",
    "The goal is to evaluate the ability of LLMs to transform unstructured legal text into standardized data with consistent labels (e.g., MULTA, OBRIGACAO, RECOMENDACAO, RESSARCIMENTO), supporting downstream analysis and monitoring of audit decisions. The project is inspired by LexCare.BR (focused on health judicialization) and applies *function calling* and *few-shot prompting* to decisions from the TCE/RN.\n"
   ]
  },
  {
   "cell_type": "code",
   "execution_count": 1,
   "id": "7f3fc11b",
   "metadata": {},
   "outputs": [
    {
     "data": {
      "text/plain": [
       "True"
      ]
     },
     "execution_count": 1,
     "metadata": {},
     "output_type": "execute_result"
    }
   ],
   "source": [
    "import pprint\n",
    "import time\n",
    "\n",
    "import pandas as pd\n",
    "\n",
    "from tqdm import tqdm\n",
    "from langchain_openai import  AzureChatOpenAI, ChatOpenAI\n",
    "from dotenv import load_dotenv\n",
    "\n",
    "from tools.dataset import get_decicontas_df\n",
    "from tools.prompt import generate_few_shot_ner_prompts\n",
    "from tools.schema import (\n",
    "    NERDecisao\n",
    ")\n",
    "\n",
    "load_dotenv()"
   ]
  },
  {
   "cell_type": "markdown",
   "id": "4e5f6820",
   "metadata": {},
   "source": [
    "# Loading and Setup\n",
    "\n",
    "The dataset is loaded using the `get_decicontas_df()` function, which wraps the loading of a CSV file annotated via Label Studio. This dataset contains excerpts from TCE/RN decisions, each annotated with named entities relevant to audit enforcement.\n",
    "\n",
    "Six Azure OpenAI models are instantiated for evaluation:\n",
    "\n",
    "- `gpt-35`\n",
    "- `gpt-4-turbo`\n",
    "- `gpt-4o`\n",
    "- `gpt-41`\n",
    "- `gpt-41-mini`\n",
    "- `gpt-41-nano`\n",
    "\n",
    "Each model is configured with `with_structured_output` to ensure outputs conform to the predefined `NERDecisao` JSON schema. This enforces consistent formatting, allows automatic validation, and simplifies integration with downstream evaluation tools that rely on structured span-based comparisons.\n"
   ]
  },
  {
   "cell_type": "code",
   "execution_count": null,
   "id": "155bca6f",
   "metadata": {},
   "outputs": [],
   "source": [
    "df_decicontas = get_decicontas_df()"
   ]
  },
  {
   "cell_type": "code",
   "execution_count": 21,
   "id": "f9359885",
   "metadata": {},
   "outputs": [],
   "source": [
    "gpt41_nano = AzureChatOpenAI(\n",
    "    deployment_name=\"gpt-4-1-nano\",  \n",
    "    model_name=\"gpt-4-1-nano\"\n",
    ")\n",
    "\n",
    "gpt41_mini = AzureChatOpenAI(\n",
    "    deployment_name=\"gpt-4-1-mini\",  \n",
    "    model_name=\"gpt-4-1-mini\"\n",
    ")\n",
    "\n",
    "gpt41= AzureChatOpenAI(\n",
    "    deployment_name=\"gpt-4-1\",  \n",
    "    model_name=\"gpt-4-1\"\n",
    ")\n",
    "\n",
    "# Inicializadores com extração estruturada\n",
    "extractor_gpt41_nano = gpt41_nano.with_structured_output(NERDecisao, include_raw=False, method=\"function_calling\")\n",
    "extractor_gpt41_mini = gpt41_mini.with_structured_output(NERDecisao, include_raw=False, method=\"function_calling\")\n",
    "extractor_gpt41 = gpt41.with_structured_output(NERDecisao, include_raw=False, method=\"function_calling\")\n",
    "\n",
    "\n",
    "gpt4o = AzureChatOpenAI(\n",
    "    deployment_name=\"gpt-4o\",  \n",
    "    model_name=\"gpt-4o\",       \n",
    ")\n",
    "\n",
    "gpt35 = AzureChatOpenAI(\n",
    "    deployment_name=\"gpt-35\",  \n",
    "    model_name=\"gpt-35-turbo\",\n",
    ")\n",
    "\n",
    "gpt4turbo = AzureChatOpenAI(\n",
    "    deployment_name=\"gpt-4-turbo\",\n",
    "    model_name=\"gpt-4\",\n",
    ")\n",
    "\n",
    "extractor_gpt4o = gpt4o.with_structured_output(NERDecisao, include_raw=False, method=\"function_calling\")\n",
    "extractor_gpt35 = gpt35.with_structured_output(NERDecisao, include_raw=False, method=\"function_calling\")\n",
    "extractor_gpt4_turbo = gpt4turbo.with_structured_output(NERDecisao, include_raw=False, method=\"function_calling\")"
   ]
  },
  {
   "cell_type": "code",
   "execution_count": 26,
   "id": "d1e43206",
   "metadata": {},
   "outputs": [],
   "source": [
    "df_decicontas[\"checked\"] = False"
   ]
  },
  {
   "cell_type": "markdown",
   "id": "1df573ef",
   "metadata": {},
   "source": [
    "# Exploratory Data Analysis (EDA)\n",
    "\n",
    "Before running the NER pipeline, an exploratory data analysis was carried out to inspect the distribution of the labels previously annotated in the dataset. This investigation serves to:\n",
    "\n",
    "- validate consistency of the manual annotations\n",
    "- identify classes with low representation\n",
    "- guide adjustments for class balance during evaluation\n",
    "\n",
    "The frequency of each label was extracted by scanning the Label Studio annotation results and summarized in a DataFrame.\n"
   ]
  },
  {
   "cell_type": "code",
   "execution_count": 3,
   "id": "6bb79dbf",
   "metadata": {},
   "outputs": [
    {
     "data": {
      "text/html": [
       "<div>\n",
       "<style scoped>\n",
       "    .dataframe tbody tr th:only-of-type {\n",
       "        vertical-align: middle;\n",
       "    }\n",
       "\n",
       "    .dataframe tbody tr th {\n",
       "        vertical-align: top;\n",
       "    }\n",
       "\n",
       "    .dataframe thead th {\n",
       "        text-align: right;\n",
       "    }\n",
       "</style>\n",
       "<table border=\"1\" class=\"dataframe\">\n",
       "  <thead>\n",
       "    <tr style=\"text-align: right;\">\n",
       "      <th></th>\n",
       "      <th>label</th>\n",
       "      <th>count</th>\n",
       "    </tr>\n",
       "  </thead>\n",
       "  <tbody>\n",
       "    <tr>\n",
       "      <th>0</th>\n",
       "      <td>MULTA</td>\n",
       "      <td>204</td>\n",
       "    </tr>\n",
       "    <tr>\n",
       "      <th>1</th>\n",
       "      <td>OBRIGACAO</td>\n",
       "      <td>120</td>\n",
       "    </tr>\n",
       "    <tr>\n",
       "      <th>3</th>\n",
       "      <td>RESSARCIMENTO</td>\n",
       "      <td>63</td>\n",
       "    </tr>\n",
       "    <tr>\n",
       "      <th>2</th>\n",
       "      <td>RECOMENDACAO</td>\n",
       "      <td>58</td>\n",
       "    </tr>\n",
       "  </tbody>\n",
       "</table>\n",
       "</div>"
      ],
      "text/plain": [
       "           label  count\n",
       "0          MULTA    204\n",
       "1      OBRIGACAO    120\n",
       "3  RESSARCIMENTO     63\n",
       "2   RECOMENDACAO     58"
      ]
     },
     "execution_count": 3,
     "metadata": {},
     "output_type": "execute_result"
    }
   ],
   "source": [
    "labels_seen = []\n",
    "for i,r in df_decicontas.iterrows():\n",
    "    for a in r['annotations']:\n",
    "        if 'result' in a.keys():\n",
    "            for v in a['result']:\n",
    "                labels_seen.append(v['value']['labels'][0])    \n",
    "pd.Series(labels_seen).value_counts().sort_index().to_frame('count').reset_index().rename(columns={'index': 'label'}).sort_values(by='count', ascending=False)"
   ]
  },
  {
   "cell_type": "markdown",
   "id": "82e99008",
   "metadata": {},
   "source": [
    "# Example use\n",
    "\n",
    "To validate the pipeline, a test query was built with real excerpts from TCE/RN decisions, simulating fines, deadlines, and enforcement clauses. This sample text was passed to the few-shot prompt generation function to check the schema, ensure consistent attribute definitions, and manually verify correctness before applying the pipeline to the full dataset.\n",
    "\n",
    "The generated prompt was displayed with `pprint` for manual inspection and debugging.\n"
   ]
  },
  {
   "cell_type": "code",
   "execution_count": 4,
   "id": "3fd42eb8",
   "metadata": {},
   "outputs": [
    {
     "name": "stdout",
     "output_type": "stream",
     "text": [
      "ChatPromptValue(messages=[SystemMessage(content='Você é um especialista em extração de entidades nomeadas com precisão excepcional. Sua tarefa é identificar e extrair informações específicas do texto fornecido, seguindo estas diretrizes:\\n\\n1. Extraia as informações exatamente como aparecem no texto, sem interpretações ou alterações.\\n2. Se uma informação solicitada não estiver presente ou for ambígua, retorne null para esse campo.\\n3. Mantenha-se estritamente dentro do escopo das entidades e atributos definidos no esquema fornecido.\\n4. Preste atenção especial para manter a mesma ortografia, pontuação e formatação das informações extraídas.\\n5. Não infira ou adicione informações que não estejam explicitamente presentes no texto.\\n6. Se houver múltiplas menções da mesma entidade, extraia todas as ocorrências relevantes.\\n7. Ignore informações irrelevantes ou fora do contexto das entidades solicitadas.\\n\\n**Orientação adicional para OBRIGACAO**: considere apenas o dispositivo da decisão que determina o ato a ser cumprido, desprezando justificativas, considerandos e fundamentações legais extensas. Inclua o prazo e as condições diretamente relacionados ao cumprimento da obrigação, mas não repita a fundamentação ou motivação que antecede a ordem.\\n\\nLembre-se: sua precisão e aderência ao texto original são cruciais para o sucesso desta tarefa.', additional_kwargs={}, response_metadata={}), HumanMessage(content='\\nDECIDEM os Conselheiros do Tribunal de Contas do Estado, à unanimidade, em consonância com a informação do Corpo Técnico e com o parecer do Ministério Público que atua junto a esta Corte de Contas, acolhendo integralmente o voto do Conselheiro Relator, julgar: a) pela DENEGAÇÃO DE REGISTRO ao ato concessivo da aposentadoria e à despesa dele decorrente; b) pela determinação ao IPERN, à vista da Lei Complementar Estadual nº 547/2015, para que, no prazo de 60 (sessenta) dias, após o trânsito em julgado desta decisão, adote as correções necessárias para regularização do ato concessório, do cálculo dos proventos e de sua respectiva implantação; c) no caso de descumprimento da presente decisão, a responsabilização do titular da pasta responsável por seu atendimento, sem prejuízo da multa cominatória desde já fixada no valor de R$ 50,00 (cinquenta reais) por dia que superar o interregno fixado no item `b`, com base no art. 110 da Lei Complementar Estadual nº 464/2012, valor este passível de revisão e limitado ao teto previsto no art. 323, inciso II, alínea `f`, do Regimento Interno, a ser apurado por ocasião de eventual subsistência de mora.\\n', additional_kwargs={}, response_metadata={}), AIMessage(content='', additional_kwargs={}, response_metadata={}, tool_calls=[{'name': 'NERDecisao', 'args': {'multas': [], 'ressarcimentos': [], 'obrigacoes': [{'descricao_obrigacao': 'determinação ao IPERN, à vista da Lei Complementar Estadual nº 547/2015, para que, no prazo de 60 (sessenta) dias, após o trânsito em julgado desta decisão, adote as correções necessárias para regularização do ato concessório, do cálculo dos proventos e de sua respectiva implantação; c) no caso de descumprimento da presente decisão, a responsabilização do titular da pasta responsável por seu atendimento, sem prejuízo da multa cominatória desde já fixada no valor de R$ 50,00 (cinquenta reais) por dia que superar o interregno fixado no item `b`, com base no art. 110 da Lei Complementar Estadual nº 464/2012, valor este passível de revisão e limitado ao teto previsto no art. 323, inciso II, alínea `f`, do Regimento Interno, a ser apurado por ocasião de eventual subsistência de mora.'}], 'recomendacoes': []}, 'id': 'd54ce42f-c017-4bbf-b443-67152d79597b', 'type': 'tool_call'}]), ToolMessage(content='You have correctly called this tool.', tool_call_id='d54ce42f-c017-4bbf-b443-67152d79597b'), HumanMessage(content='\\nVistos, relatados e discutidos estes autos da aposentadoria voluntária, por tempo de contribuição, com proventos proporcionais, concedida à servidora Francisca Lima da Silva, no cargo de Auxiliar de Serviços Gerais, do quadro de pessoal do Município de Alexandria,  considerando a manifestação emitida pelo Corpo Técnico e do parecer do Ministério Público junto a esta Corte, ACORDAM os Conselheiros,  nos termos do voto proferido pelo Conselheiro Relator, julgar pela DENEGAÇÃO do registro do ato concessivo de aposentadoria em foco,  nos termos do artigo 53, inciso III, da Constituição Estadual e do artigo 1º, inciso III, da Lei Complementar nº 464/2012, visto que as  irregularidades suscitadas no bojo do processo não foram sanadas; com APLICAÇÃO DE MULTA no valor de R$600,00 (seiscentos reais) ao gestor responsável  pelo Instituto de Previdência do Município de Alexandria - IPAMA, à época dos fatos, o senhor Francisco Marcolino Neto, nos termos do art. 107,  inciso II, alínea f, da Lei Complementar Estadual nº 464/12, pelo descumprimento de determinação do Tribunal (Decisão nº 2849/2012-TC);  pela INTIMAÇÃO da referida autoridade competente, a fim de que tome conhecimento desta Decisão e, se for o caso, apresentem recurso no  prazo regimental; e ainda, pela RENOVAÇÃO DA DETERMINAÇÃO constante na decisão retro, estipulando o prazo de 60 (sessenta) dias, para  que o IPAMA, no seu atual gestor, regularize a situação noticiada nos autos, sob pena de sanção prevista no artigo 101, parágrafo único,   c/c artigo 110, da Lei Complementar Estadual nº 464/2012.\\n', additional_kwargs={}, response_metadata={}), AIMessage(content='', additional_kwargs={}, response_metadata={}, tool_calls=[{'name': 'NERDecisao', 'args': {'multas': [{'descricao_multa': 'MULTA no valor de R$600,00 (seiscentos reais) ao gestor responsável pelo Instituto de Previdência do Município de Alexandria - IPAMA, à época dos fatos, o senhor Francisco Marcolino Neto, nos termos do art. 107, inciso II, alínea f, da Lei Complementar Estadual nº 464/12, pelo descumprimento de determinação do Tribunal (Decisão nº 2849/2012-TC);'}], 'ressarcimentos': [], 'obrigacoes': [], 'recomendacoes': []}, 'id': 'd37ebb0d-a4f5-45ae-b0d4-ebdf0fb6c70e', 'type': 'tool_call'}]), ToolMessage(content='You have correctly called this tool.', tool_call_id='d37ebb0d-a4f5-45ae-b0d4-ebdf0fb6c70e'), HumanMessage(content='\\nVistos, relatados e discutidos estes autos da Representação formulada pela Diretoria de Despesa com Pessoal, solicitando a adoção de medidas cautelares, em desfavor da Câmara Municipal de Monte Alegre/RN, concernente à remuneração de agentes políticos, considerando em parte a manifestação emitida pelo Corpo Técnico e do parecer do Ministério Público junto a esta Corte, ACORDAM os Conselheiros, nos termos do voto proferido pelo Conselheiro Relator, julgar: a)pela perda parcial do Objeto da Representação, em virtude da revogação da norma municipal ofensiva ao art. 29 da CF;)irregularidade da matéria afeta à Gestão do Ex-Presidente da Câmara de Vereadores, Sr. Giodano Bruno de Castro Galvão, na forma do art. 75, II da Lei Complementar n°464/2012; c)aplicação de multa ao Sr. Giodano Bruno de Castro Galvão pelas infrações legais detalhadas na fundamentação, com fulcro no art. 107, II, “b”, da LCE 464/12; c/c art. 323, II, “b” e §4º do mesmo artigo da Res. 009/2012-TCE, com base no valor mínimo de 30% sobre o valor máximo, atualizado pela Portaria 104/2017-GP/TCE, de 14/02/2017, o que importa na quantia de R$4.172,49 (quatro mil, cento e setenta e dois reais e quarenta e nove centavos); e d) expedição de recomendação para a atual Gestão da Câmara Municipal de Monte Alegre para que adote as providências necessárias ao cumprimento das exigências previstas nos arts. 16, 17 e 21 da Lei de Responsabilidade Fiscal, inclusive com o reconhecimento da nulidade do aumento concedido caso se comprove a sua incompatibilidade com as exigências legais e com os limites constitucionais.\\n', additional_kwargs={}, response_metadata={}), AIMessage(content='', additional_kwargs={}, response_metadata={}, tool_calls=[{'name': 'NERDecisao', 'args': {'multas': [{'descricao_multa': 'multa ao Sr. Giodano Bruno de Castro Galvão pelas infrações legais detalhadas na fundamentação, com fulcro no art. 107, II, “b”, da LCE 464/12; c/c art. 323, II, “b” e §4º do mesmo artigo da Res. 009/2012-TCE, com base no valor mínimo de 30% sobre o valor máximo, atualizado pela Portaria 104/2017-GP/TCE, de 14/02/2017, o que importa na quantia de R$4.172,49 (quatro mil, cento e setenta e dois reais e quarenta e nove centavos)'}], 'ressarcimentos': [], 'obrigacoes': [], 'recomendacoes': [{'descricao_recomendacao': 'recomendação para a atual Gestão da Câmara Municipal de Monte Alegre para que adote as providências necessárias ao cumprimento das exigências previstas nos arts. 16, 17 e 21 da Lei de Responsabilidade Fiscal, inclusive com o reconhecimento da nulidade do aumento concedido caso se comprove a sua incompatibilidade com as exigências legais e com os limites constitucionais.'}]}, 'id': 'c0895d76-2a0b-4746-b515-e3350b178a20', 'type': 'tool_call'}]), ToolMessage(content='You have correctly called this tool.', tool_call_id='c0895d76-2a0b-4746-b515-e3350b178a20'), HumanMessage(content='\\nVistos, relatados e discutidos estes autos da análise de documentação e balancetes do FUNDEF referente aos meses de janeiro a dezembro de 1998 da Prefeitura Municipal de Tangará/RN, considerando parcialmente a manifestação emitida pelo Corpo Técnico, (discordando deste com relação ao remanejamento, ante a prescrição) e integralmente o parecer do Ministério Público junto a esta Corte, ACORDAM os Conselheiros, nos termos do voto proferido pelo Conselheiro Relator, julgar: a) pela irregularidade da matéria, nos termos do artigo 78, incisos II e IV da Lei Complementar nº121/94, b) pela condenação do gestor responsável, Senhor Giovannu César Pinheiro e Alves, ao ressarcimento da quantia R$ 6.583,99 (seis mil, quinhentos e oitenta e três reais e noventa e nove centavos) referente ao pagamento de encargos moratórios gerados por juros e multa do FGTS e INSS, c) pelo reconhecimento da prescrição decenária da pretensão punitiva no que tange ao remanejamento e aplicação de multa, como matéria de ordem pública e prejudicial de mérito, nos termos do art. 170, caput, da Lei Complementar nº 464/2012.\\n', additional_kwargs={}, response_metadata={}), AIMessage(content='', additional_kwargs={}, response_metadata={}, tool_calls=[{'name': 'NERDecisao', 'args': {'multas': [], 'ressarcimentos': [{'descricao_ressarcimento': 'Giovannu César Pinheiro e Alves, ao ressarcimento da quantia R$ 6.583,99 (seis mil, quinhentos e oitenta e três reais e noventa e nove centavos) referente ao pagamento de encargos moratórios gerados por juros e multa do FGTS e INSS'}], 'obrigacoes': [], 'recomendacoes': []}, 'id': '514869f2-e4e7-480e-a9e4-12703dcaaa36', 'type': 'tool_call'}]), ToolMessage(content='You have correctly called this tool.', tool_call_id='514869f2-e4e7-480e-a9e4-12703dcaaa36'), HumanMessage(content='\\nVistos, relatados e discutidos estes autos do Convênio nº 03/2003 – SIN, firmado entre a Secretaria de Estado da Infraestrutura – SIN, e a Prefeitura Municipal de Tenente Ananias, que teve por objeto o repasse de recursos financeiros destinados à serviços de drenagem e pavimentação de ruas no município. Considerando a manifestação emitida pelo Corpo Técnico e parecer do Ministério Público junto a esta Corte, ACORDAM os Conselheiros, nos termos do voto proferido pelo Conselheiro Relator, julgar pela IRREGULARIDADE das contas do município de Tenente Ananias, relativamente à aplicação dos recursos recebidos através do Convênio nº 003/2003 – SIN, nos termos do art. 75, incisos II e IV, da Lei Complementar nº 464/2012, com aplicação das seguintes obrigações e penalidades à gestora Maria José Jácome da Silva, todas de conformidade com o art. 78, § 3º, alíneas ‘a’ e ‘b’, c/c art. 102, incisos I e II, da Lei Complementar Estadual nº 121/94, norma vigente à época dos fatos; com restituição aos cofres públicos estaduais da quantia de R$ 6.522,30 (seis mil quinhentos e vinte e dois reais e trinta centavos), a serem devidamente atualizados a partir da data do pagamento da despesa e com aplicação dos juros devidos, em solidariedade com a empresa contratada para execução das obras, Horebe Comércio e Serviços Ltda; e multa aos responsáveis solidários no percentual de 30% (trinta por cento), calculada sobre o valor atualizado da restituição; e a gestora responsável no valor de R$ 500,00 (quinhentos reais) cada, no total de 03 (três), totalizando R$ 1.500,00 (mil e quinhentos reais), em função das irregularidades formais praticadas.\\n', additional_kwargs={}, response_metadata={}), AIMessage(content='', additional_kwargs={}, response_metadata={}, tool_calls=[{'name': 'NERDecisao', 'args': {'multas': [{'descricao_multa': 'multa aos responsáveis solidários no percentual de 30% (trinta por cento), calculada sobre o valor atualizado da restituição; e a gestora responsável no valor de R$ 500,00 (quinhentos reais) cada, no total de 03 (três), totalizando R$ 1.500,00 (mil e quinhentos reais), em função das irregularidades formais praticadas.'}], 'ressarcimentos': [{'descricao_ressarcimento': 'Maria José Jácome da Silva, todas de conformidade com o art. 78, § 3º, alíneas ‘a’ e ‘b’, c/c art. 102, incisos I e II, da Lei Complementar Estadual nº 121/94, norma vigente à época dos fatos; com restituição aos cofres públicos estaduais da quantia de R$ 6.522,30 (seis mil quinhentos e vinte e dois reais e trinta centavos), a serem devidamente atualizados a partir da data do pagamento da despesa e com aplicação dos juros devidos, em solidariedade com a empresa contratada para execução das obras, Horebe Comércio e Serviços Ltda'}], 'obrigacoes': [], 'recomendacoes': []}, 'id': 'd5f6b083-9390-43a0-8b8a-fc52cd973a7a', 'type': 'tool_call'}]), ToolMessage(content='You have correctly called this tool.', tool_call_id='d5f6b083-9390-43a0-8b8a-fc52cd973a7a'), HumanMessage(content='\\nDECIDEM os Conselheiros do Tribunal de Contas do Estado, à unanimidade, em consonância com a informação do Corpo Técnico, e do parecer do Ministério Público que atua junto a esta Corte de Contas, acolhendo integralmente o voto da Conselheira Relatora, julgar com fulcro no art. 312, §4º, do Regimento Interno desta Corte, pelo PREJUÍZO DO EXAME de mérito da aposentadoria, em decorrência do falecimento da servidora, e ainda, pela denegação de registro ao ato de pensão em análise, nos termos do art. 71, III, da Constituição Federal, art. 53, III, da Constituição do Estado e arts. 1º, III e 95, III, da Lei Complementar Estadual nº 464/12, determinando após o trânsito em julgado da decisão, a intimação do IPERN para que, em 60 (sessenta) dias, adote as medidas regularizadoras cabíveis, sob pena de estabelecimento de multa diária em face do gestor responsável, que desde já fixado em R$ 50,00 (cinquenta) reais por cada dia de atraso que exceder ao prazo acima consignado, valor este passível de revisão e limitado ao teto previsto no art. 323, inciso II, alínea `f`, do Regimento Interno, a ser apurado por ocasião de eventual subsistência de mora.\\n', additional_kwargs={}, response_metadata={}), AIMessage(content='', additional_kwargs={}, response_metadata={}, tool_calls=[{'name': 'NERDecisao', 'args': {'multas': [], 'ressarcimentos': [], 'obrigacoes': [{'descricao_obrigacao': 'determinando após o trânsito em julgado da decisão, a intimação do IPERN para que, em 60 (sessenta) dias, adote as medidas regularizadoras cabíveis, sob pena de estabelecimento de multa diária em face do gestor responsável, que desde já fixado em R$ 50,00 (cinquenta) reais por cada dia de atraso que exceder ao prazo acima consignado, valor este passível de revisão e limitado ao teto previsto no art. 323, inciso II, alínea `f`, do Regimento Interno, a ser apurado por ocasião de eventual subsistência de mora.'}], 'recomendacoes': []}, 'id': 'ef291dac-6da3-48e9-ac2d-589ec314abe0', 'type': 'tool_call'}]), ToolMessage(content='You have correctly called this tool.', tool_call_id='ef291dac-6da3-48e9-ac2d-589ec314abe0'), HumanMessage(content='\\nVistos, relatados e discutidos estes autos de Representação apresentada pela Diretoria de Despesa com Pessoal - DDP, Unidade Técnica desta Corte de Contas, em face da Prefeitura Municipal de Mossoró/RN, referente à remuneração dos agentes políticos, notadamente o Prefeito e Vice Prefeito, para o período 2017 a 2020, que teve como base a Lei Municipal n.º 3.439/2016, ACORDAM os Conselheiros, nos termos do voto proposto pelo Conselheiro Relator, julgar:\\n\\na) Pela NEGATIVA da aplicação da Lei Municipal nº 3.439/2016, em virtude dos vícios de inconstitucionalidade, com fundamento na Súmula nº 347 do STF, bem como na Lei Orgânica 464/2012 (arts. 142 e seguintes) e no Regimento Interno do TCERN (arts. 403 e seguintes);\\n\\nb) Pela DETERMINAÇÃO a atual gestora do Município de Mossoró, que continue se abstendo de pagar os subsídios do Prefeito e Vice-Prefeito com base na Lei nº 3.439/2016 daquele Município – cuja aplicação ora se nega, sob pena de multa pessoal de R$ 10.000,00 (dez mil reais) ao Gestor do Executivo do Município de Mossoró por cada mês em que descumprida a presente ordem, devendo os agentes políticos (Prefeito e Vice-Prefeito) continuarem sendo remunerados com base nos subsídios fixados na Lei Municipal anterior;\\n\\nc) Pela DETERMINAÇÃO à Diretoria de Atos e Execução – DAE deste Tribunal que proceda com a intimação da Prefeita Municipal de Mossoró/RN, Sra. Rosalba Ciarlini Rosado, para ciência e cumprimento desta Decisão, fixando prazo de 15 (quinze) dias a contar de sua intimação, para que comprova a edição de ato formal, em cumprimento da determinação estabelecida na letra “b”, a fim de que continue se abstendo de aplicar a Lei nº 3.439/2016 daquele Município (tal ato formal deve abranger os subsídios tanto do Prefeito como do Vice-Prefeito);\\n\\nd) Pela abertura de processo de apuração de responsabilidade contra os responsáveis pelo Poder Executivo e Poder legislativo à época da Edição da Lei Municipal nº 3.439/2016; e\\n\\ne) Pela RECOMENDAÇÃO ao Poder Executivo e Legislativo do Município de Mossoró/RN, nas pessoas de seus representantes legais, para que da edição de nova lei municipal que aborde aumento de despesa com pessoal, que seja precedida de estudo de impacto financeiro e orçamentário e que sejam observados os prazos e mandamentos da Constituição Federal e da LRF.\\n', additional_kwargs={}, response_metadata={}), AIMessage(content='', additional_kwargs={}, response_metadata={}, tool_calls=[{'name': 'NERDecisao', 'args': {'multas': [], 'ressarcimentos': [], 'obrigacoes': [{'descricao_obrigacao': 'Sra. Rosalba Ciarlini Rosado, para ciência e cumprimento desta Decisão, fixando prazo de 15 (quinze) dias a contar de sua intimação, para que comprova a edição de ato formal, em cumprimento da determinação estabelecida na letra “b”, a fim de que continue se abstendo de aplicar a Lei nº 3.439/2016 daquele Município (tal ato formal deve abranger os subsídios tanto do Prefeito como do Vice-Prefeito);'}, {'descricao_obrigacao': 'DETERMINAÇÃO a atual gestora do Município de Mossoró, que continue se abstendo de pagar os subsídios do Prefeito e Vice-Prefeito com base na Lei nº 3.439/2016 daquele Município – cuja aplicação ora se nega, sob pena de multa pessoal de R$ 10.000,00 (dez mil reais) ao Gestor do Executivo do Município de Mossoró por cada mês em que descumprida a presente ordem, devendo os agentes políticos (Prefeito e Vice-Prefeito) continuarem sendo remunerados com base nos subsídios fixados na Lei Municipal anterior;'}], 'recomendacoes': [{'descricao_recomendacao': 'RECOMENDAÇÃO ao Poder Executivo e Legislativo do Município de Mossoró/RN, nas pessoas de seus representantes legais, para que da edição de nova lei municipal que aborde aumento de despesa com pessoal, que seja precedida de estudo de impacto financeiro e orçamentário e que sejam observados os prazos e mandamentos da Constituição Federal e da LRF.'}]}, 'id': '148576f1-a7de-4789-936e-ef1142181bfc', 'type': 'tool_call'}]), ToolMessage(content='You have correctly called this tool.', tool_call_id='148576f1-a7de-4789-936e-ef1142181bfc'), HumanMessage(content='\\nVistos, relatados e discutidos estes autos, ACORDAM os Conselheiros, nos termos do voto vista proferido pelo Excelentíssimo Conselheiro Carlos Thompson Costa Fernandes, julgar no sentido de:\\n\\na) Em relação ao Poder Legislativo do Município de Acari:\\n\\ni. Pela revogação da medida cautelar arbitrada, para autorizar, especificamente para os cargos relativos à Câmara Municipal, a homologação do concurso público e o seu regular prosseguimento;\\n\\nii. Pela imposição de multa ao então presidente da Câmara Municipal, Sr. Leonardo Ferreira de Medeiros, no valor de R$ 4.172,49 (quatro mil, cento e setenta e dois reais e quarenta e nove centavos), fulcrada no art. 107, inciso II, alínea “b”, da Lei Complementar Estadual nº 464/2012, c/c art. 323, inciso II, do Regimento Interno, diante do não envio voluntário do edital do concurso público, exigência prevista no art. 308, do Regimento Interno desta Corte;\\n\\niii. Pela obrigação de remeter a este Tribunal de Contas, quando das nomeações, o demonstrativo que certifique a existência de prévia dotação orçamentária suficiente para atender às projeções de despesa com pessoal e aos acréscimos dela decorrentes quando da nomeação dos candidatos aprovados;\\n\\niv. Pela obrigação de remeter a este Tribunal de Contas os processos de admissão, com o fito de proceder à análise de sua legalidade, com fins de registro.\\n\\n\\n\\nb) Em relação ao Poder Executivo do Município de Acari:\\n\\ni. Reforçar a medida cautelar proferida nestes autos, com fundamento nos arts. 120 e 121, inciso II, da Lei Complementar Estadual nº 464/2012, c/c o disposto nos arts. 345, e 346, inciso II, do Regimento Interno, com o fito de proibir que o Poder Executivo de Acari proceda à homologação do concurso público deflagrado pelo Edital nº 001/2016, especificamente com relação às suas vagas, enquanto não houver decisão de mérito, devendo realizar a publicação do ato em imprensa oficial no prazo de 10 (dez) dias a partir da ciência desta Decisão, sob pena de multa diária no valor de R$ 500,00 (quinhentos reais), com fundamento no art. 110, da Lei Complementar Estadual nº 464/2012 , c/c o disposto no art. 326, do Regimento Interno ;\\n\\nii. Fixar o prazo de 60 (sessenta) dias contados a partir da comunicação desta Decisão para que o Poder Executivo Municipal apresente demonstrativo de despesas com pessoal atualizado, hábil a comprovar a compatibilidade entre o quantitativo de servidores, o número de cargos criados por lei e as vagas disponibilizadas para o preenchimento por concurso, sob pena de multa diária de R$ 100,00 (cem reais), com fundamento no art. 110, da Lei Complementar Estadual nº 464/2012, c/c o disposto no art. 326, do Regimento Interno;\\n\\niii. Igualmente em 60 (sessenta) dias, deve o gestor apresentar documentação hábil a demonstrar a existência de prévia dotação orçamentária, suficiente para atender às projeções de despesa com pessoal advindas do concurso e aos acréscimos dela decorrentes, em nos exatos termos do artigo 169, §1º, inciso I da Constituição Federal, sob pena de multa diária de R$ 100,00 (cem reais), com fundamento no art. 110, da Lei Complementar Estadual nº 464/2012, c/c o disposto no art. 326, do Regimento Interno;\\n\\niv. No mesmo prazo de 60 (sessenta) dias, deverá juntar aos autos estimativa do impacto considerando as nomeações advindas do concurso público tanto para o exercício em que tais servidores ingressarem, como para os dois subsequentes, sob pena de multa diária de R$ 100,00 (cem reais), com fundamento no art. 110, da Lei Complementar Estadual nº 464/2012, c/c o disposto no art. 326, do Regimento Interno;\\n\\nv. Apresentar, em 60 (sessenta) dias, declaração do ordenador de despesas sobre o aumento de dispêndio com pessoal e a adequação orçamentária e financeira com a LOA, PPA e a LDO, considerando o efetivo dispêndio com as nomeações dos candidatos aprovados, sob pena de multa diária de R$ 100,00 (cem reais), com fundamento no art. 110, da Lei Complementar Estadual nº 464/2012, c/c o disposto no art. 326, do Regimento Interno;\\n\\nvi. Determinar que se comprove, também em 60 (sessenta) dias, o atendimento aos ditames do artigo 16, I e II, § 2º, c/c o artigo 17, §§ 1º, 2º, 4º e 5º e com o artigo 21, I, da Lei Complementar Federal nº 101/2000, atestando que a despesa criada ou aumentada com o ingresso aprovados não afeta as metas de resultados fiscais previstas no anexo da LDO, sob pena de multa diária de R$ 100,00 (cem reais), com fundamento no art. 110, da Lei Complementar Estadual nº 464/2012, c/c o disposto no art. 326, do Regimento Interno;\\n\\nvii. Comprovar, em até quatro quadrimestres – contados a partir desta Decisão –, sob pena de ser considerado nulo de pleno direito o concurso público, que o Poder Executivo adotou as medidas para eliminar o percentual excedente do limite prudencial de despesas com pessoal – com a adoção das medidas descritas na Constituição Federal e na LRF –, considerando o disposto nos arts. 20, 22, 23, e 66, todos da Lei de Responsabilidade Fiscal, inclusive com a rescisão de todos os contratos temporários;\\n\\nviii. Regularizar, em 60 (sessenta) dias, as informações prestadas ao SIAI-DP, de modo que haja congruência com os dados constantes no Portal da Transparência do Município de Acari, sob pena de multa diária de R$ 100,00 (cem reais), com fundamento no art. 110, da Lei Complementar Estadual nº 464/2012, c/c o disposto no art. 326, do Regimento Interno.\\n\\nACORDAM, por fim, pela imediata remessa do voto e do Acórdão proferido nestes autos ao Ministério Público Estadual, para ciência e adoção das providências pertinentes no escopo de sua competência.\\n', additional_kwargs={}, response_metadata={}), AIMessage(content='', additional_kwargs={}, response_metadata={}, tool_calls=[{'name': 'NERDecisao', 'args': {'multas': [{'descricao_multa': 'multa ao então presidente da Câmara Municipal, Sr. Leonardo Ferreira de Medeiros, no valor de R$ 4.172,49 (quatro mil, cento e setenta e dois reais e quarenta e nove centavos), fulcrada no art. 107, inciso II, alínea “b”, da Lei Complementar Estadual nº 464/2012, c/c art. 323, inciso II, do Regimento Interno, diante do não envio voluntário do edital do concurso público, exigência prevista no art. 308, do Regimento Interno desta Corte;'}], 'ressarcimentos': [], 'obrigacoes': [{'descricao_obrigacao': 'obrigação de remeter a este Tribunal de Contas, quando das nomeações, o demonstrativo que certifique a existência de prévia dotação orçamentária suficiente para atender às projeções de despesa com pessoal e aos acréscimos dela decorrentes quando da nomeação dos candidatos aprovados'}, {'descricao_obrigacao': 'obrigação de remeter a este Tribunal de Contas os processos de admissão, com o fito de proceder à análise de sua legalidade, com fins de registro'}, {'descricao_obrigacao': 'Comprovar, em até quatro quadrimestres – contados a partir desta Decisão –, sob pena de ser considerado nulo de pleno direito o concurso público, que o Poder Executivo adotou as medidas para eliminar o percentual excedente do limite prudencial de despesas com pessoal – com a adoção das medidas descritas na Constituição Federal e na LRF –, considerando o disposto nos arts. 20, 22, 23, e 66, todos da Lei de Responsabilidade Fiscal, inclusive com a rescisão de todos os contratos temporários'}, {'descricao_obrigacao': 'proibir que o Poder Executivo de Acari proceda à homologação do concurso público deflagrado pelo Edital nº 001/2016, especificamente com relação às suas vagas, enquanto não houver decisão de mérito, devendo realizar a publicação do ato em imprensa oficial no prazo de 10 (dez) dias a partir da ciência desta Decisão, sob pena de multa diária no valor de R$ 500,00 (quinhentos reais), com fundamento no art. 110, da Lei Complementar Estadual nº 464/2012 , c/c o disposto no art. 326, do Regimento Interno'}, {'descricao_obrigacao': 'Fixar o prazo de 60 (sessenta) dias contados a partir da comunicação desta Decisão para que o Poder Executivo Municipal apresente demonstrativo de despesas com pessoal atualizado, hábil a comprovar a compatibilidade entre o quantitativo de servidores, o número de cargos criados por lei e as vagas disponibilizadas para o preenchimento por concurso, sob pena de multa diária de R$ 100,00 (cem reais), com fundamento no art. 110, da Lei Complementar Estadual nº 464/2012, c/c o disposto no art. 326, do Regimento Interno'}, {'descricao_obrigacao': '60 (sessenta) dias, deve o gestor apresentar documentação hábil a demonstrar a existência de prévia dotação orçamentária, suficiente para atender às projeções de despesa com pessoal advindas do concurso e aos acréscimos dela decorrentes, em nos exatos termos do artigo 169, §1º, inciso I da Constituição Federal, sob pena de multa diária de R$ 100,00 (cem reais), com fundamento no art. 110, da Lei Complementar Estadual nº 464/2012, c/c o disposto no art. 326, do Regimento Interno'}, {'descricao_obrigacao': 'prazo de 60 (sessenta) dias, deverá juntar aos autos estimativa do impacto considerando as nomeações advindas do concurso público tanto para o exercício em que tais servidores ingressarem, como para os dois subsequentes, sob pena de multa diária de R$ 100,00 (cem reais), com fundamento no art. 110, da Lei Complementar Estadual nº 464/2012, c/c o disposto no art. 326, do Regimento Interno'}, {'descricao_obrigacao': 'Apresentar, em 60 (sessenta) dias, declaração do ordenador de despesas sobre o aumento de dispêndio com pessoal e a adequação orçamentária e financeira com a LOA, PPA e a LDO, considerando o efetivo dispêndio com as nomeações dos candidatos aprovados, sob pena de multa diária de R$ 100,00 (cem reais), com fundamento no art. 110, da Lei Complementar Estadual nº 464/2012, c/c o disposto no art. 326, do Regimento Interno'}, {'descricao_obrigacao': 'Determinar que se comprove, também em 60 (sessenta) dias, o atendimento aos ditames do artigo 16, I e II, § 2º, c/c o artigo 17, §§ 1º, 2º, 4º e 5º e com o artigo 21, I, da Lei Complementar Federal nº 101/2000, atestando que a despesa criada ou aumentada com o ingresso aprovados não afeta as metas de resultados fiscais previstas no anexo da LDO, sob pena de multa diária de R$ 100,00 (cem reais), com fundamento no art. 110, da Lei Complementar Estadual nº 464/2012, c/c o disposto no art. 326, do Regimento Interno'}, {'descricao_obrigacao': ' Regularizar, em 60 (sessenta) dias, as informações prestadas ao SIAI-DP, de modo que haja congruência com os dados constantes no Portal da Transparência do Município de Acari, sob pena de multa diária de R$ 100,00 (cem reais), com fundamento no art. 110, da Lei Complementar Estadual nº 464/2012, c/c o disposto no art. 326, do Regimento Interno'}], 'recomendacoes': []}, 'id': 'd1cec51c-aefd-478a-882f-897a2dfe91ef', 'type': 'tool_call'}]), ToolMessage(content='You have correctly called this tool.', tool_call_id='d1cec51c-aefd-478a-882f-897a2dfe91ef'), HumanMessage(content='\\nVistos, relatados e discutidos estes autos de Pedido de Reconsideração interposto pelo Senhor GERALDO ROCHA E SILVA JÚNIOR na qualidade de ex-prefeito, em face do Acórdão nº 148/2015 - TC. Em consonância integral com os posicionamentos do Corpo Instrutivo e do Ministério Público Especial, ACORDAM os Conselheiros, nos termos do voto proferido pelo Conselheiro Relator, julgar pelo conhecimento e provimento parcial do recurso interposto, para afastar a condenação do ressarcimento ao erário no valor de R$ 141.240,95 (cento e quarenta e um mil duzentos e quarenta reais e noventa e cinco centavos), assim como do pagamento de multa de 10% (dez por cento) sobre o mencionado débito, com a consequente manutenção dos demais termos do Acórdão nº. 148/2015 – TC prolatado pela 1ª Câmara.\\n', additional_kwargs={}, response_metadata={}), AIMessage(content='', additional_kwargs={}, response_metadata={}, tool_calls=[{'name': 'NERDecisao', 'args': {'multas': [], 'ressarcimentos': [], 'obrigacoes': [], 'recomendacoes': []}, 'id': '47bc5a2c-604c-4353-a865-0081d4e1e018', 'type': 'tool_call'}]), ToolMessage(content='You have correctly called this tool.', tool_call_id='47bc5a2c-604c-4353-a865-0081d4e1e018'), HumanMessage(content='\\nVistos, relatados e discutidos estes autos da prestação de contas da Câmara Municipal de Mossoró, referente ao 1º bimestre de 2002., concordando em parte com a manifestação emitida pelo Corpo Técnico e parecer do Ministério Público junto a esta Corte, ACORDAM os Conselheiros, nos termos do voto proferido pelo Conselheiro Relator, julgar preliminarmente, pelo reconhecimento da prescrição da pretensão punitiva deste Tribunal em relação às irregularidades de cunho formal, com fulcro no caput do art. 170 da LC 464/2012 e, no mérito, pela irregularidade das contas em tela, com fulcro no art. 78, inciso IV, da Lei Complementar Estadual nº 121/94, ante a ausência dos contratos de assessorias jurídica, contábil e administrativa, no valor total de R$ 3.626,75 (três mil, seiscentos e vinte e seis reais e setenta e cinco centavos), quantum este que deve ser ressarcido aos cofres públicos pelo gestor responsável, senhor Vicente de Souza Rego.\\n', additional_kwargs={}, response_metadata={}), AIMessage(content='', additional_kwargs={}, response_metadata={}, tool_calls=[{'name': 'NERDecisao', 'args': {'multas': [], 'ressarcimentos': [], 'obrigacoes': [], 'recomendacoes': []}, 'id': 'f44544f1-2473-49a4-b0fe-a231cf031df7', 'type': 'tool_call'}]), ToolMessage(content='You have correctly called this tool.', tool_call_id='f44544f1-2473-49a4-b0fe-a231cf031df7'), HumanMessage(content='\\nVistos, relatados e discutidos estes autos dos Pedidos de Reconsideração contra o Acórdão nº 461/2014-TCE, proferido por este Tribunal Pleno, acolhendo parcialmente o parecer do Ministério Público junto a esta Corte, deste discordando apenas no que toca ao não provimento dos recursos interpostos pelos Srs. Hélio Lima da Mota e Francisco Canindé Fernandes, ACORDAM os Conselheiros, nos termos do voto proferido pelo Conselheiro Relator, julgar a)pelo CONHECIMENTO E DESPROVIMENTO dos Pedidos de Reconsideração interpostos pelos Srs. Paulo Roberto Sena de Carvalho e Antônio Carlos de Santana, conforme razões expostas neste voto e nas intervenções do Ministério Público Especial, mantendo incólume a obrigação solidária de ressarcir, em relação a ambos; b)pelo CONHECIMENTO E PROVIMENTO dos Pedidos de Reconsideração interpostos por Hélio Lima da Mota e Francisco Canindé Fernandes, modificando-se parcialmente o Acórdão n.º 461/2014, para retirar-lhes a solidariedade obrigacional, vez que não contribuíram para a efetivação do dano, tendo, no caso do primeiro, indicado a tempo e modo que a obra ainda carecia de determinadas execuções e, no caso do segundo, apenas designado servidores efetivos, presumivelmente capacitados.\\n', additional_kwargs={}, response_metadata={}), AIMessage(content='', additional_kwargs={}, response_metadata={}, tool_calls=[{'name': 'NERDecisao', 'args': {'multas': [], 'ressarcimentos': [], 'obrigacoes': [], 'recomendacoes': []}, 'id': '9e94dd3d-c2e5-49ce-8974-233deff2804d', 'type': 'tool_call'}]), ToolMessage(content='You have correctly called this tool.', tool_call_id='9e94dd3d-c2e5-49ce-8974-233deff2804d'), HumanMessage(content='\\nVistos, relatados e discutidos estes autos, ACORDAM os Conselheiros, nos termos do voto proferido pelo Conselheiro Relator, julgar pelo conhecimento e PROVIMENTO dos Pedidos de Reconsideração interpostos, de modo a declarar prescritas multas e ressarcimento que haviam sido determinados junto ao Acórdão n.º 285/2018-TC, com base no artigo 111, parágrafo único, da Lei Complementar Estadual n.º 464/2012, com consequente arquivamento dos autos.\\n', additional_kwargs={}, response_metadata={}), AIMessage(content='', additional_kwargs={}, response_metadata={}, tool_calls=[{'name': 'NERDecisao', 'args': {'multas': [], 'ressarcimentos': [], 'obrigacoes': [], 'recomendacoes': []}, 'id': '96181df4-0f6d-4c3c-9c8a-998e364f5b13', 'type': 'tool_call'}]), ToolMessage(content='You have correctly called this tool.', tool_call_id='96181df4-0f6d-4c3c-9c8a-998e364f5b13'), HumanMessage(content='\\nDECIDEM os Conselheiros do Tribunal de Contas do Estado, à unanimidade, em consonância com a informação do Corpo Técnico e com o parecer do Ministério Público que atua junto a esta Corte de Contas, acolhendo integralmente o voto do Conselheiro Relator, julgar: a) pela DENEGAÇÃO DE REGISTRO ao ato concessivo da aposentadoria e à despesa dele decorrente; b) pela determinação ao IPERN, à vista da Lei Complementar Estadual nº 547/2015, para que, no prazo de 60 (sessenta) dias, após o trânsito em julgado desta decisão, adote as correções necessárias para regularização do ato concessório, do cálculo dos proventos e de sua respectiva implantação; c) no caso de descumprimento da presente decisão, a responsabilização do titular da pasta responsável por seu atendimento, sem prejuízo da multa cominatória desde já fixada no valor de R$ 50,00 (cinquenta reais) por dia que superar o interregno fixado no item `b`, com base no art. 110 da Lei Complementar Estadual nº 464/2012, valor este passível de revisão e limitado ao teto previsto no art. 323, inciso II, alínea `f`, do Regimento Interno, a ser apurado por ocasião de eventual subsistência de mora.\\n', additional_kwargs={}, response_metadata={})])\n"
     ]
    }
   ],
   "source": [
    "EXAMPLE_TEXT = '''\n",
    "DECIDEM os Conselheiros do Tribunal de Contas do Estado, à unanimidade, em consonância com a informação do Corpo Técnico e com o parecer do Ministério Público que atua junto a esta Corte de Contas, acolhendo integralmente o voto do Conselheiro Relator, julgar: a) pela DENEGAÇÃO DE REGISTRO ao ato concessivo da aposentadoria e à despesa dele decorrente; b) pela determinação ao IPERN, à vista da Lei Complementar Estadual nº 547/2015, para que, no prazo de 60 (sessenta) dias, após o trânsito em julgado desta decisão, adote as correções necessárias para regularização do ato concessório, do cálculo dos proventos e de sua respectiva implantação; c) no caso de descumprimento da presente decisão, a responsabilização do titular da pasta responsável por seu atendimento, sem prejuízo da multa cominatória desde já fixada no valor de R$ 50,00 (cinquenta reais) por dia que superar o interregno fixado no item `b`, com base no art. 110 da Lei Complementar Estadual nº 464/2012, valor este passível de revisão e limitado ao teto previsto no art. 323, inciso II, alínea `f`, do Regimento Interno, a ser apurado por ocasião de eventual subsistência de mora.\n",
    "'''\n",
    "prompt_with_few_shot = generate_few_shot_ner_prompts(EXAMPLE_TEXT)\n",
    "pprint.pprint(prompt_with_few_shot)\n"
   ]
  },
  {
   "cell_type": "markdown",
   "id": "f258df55",
   "metadata": {},
   "source": [
    "# Evaluating the models\n",
    "\n",
    "In this stage, the script loops over the entire dataset to apply batch NER inference. Each model (gpt-4o, gpt-4-turbo, and gpt-35-turbo) receives the few-shot prompts and returns structured predictions. These results are stored along with the source text and reference (“golden”) annotations to enable metric evaluation later.\n",
    "\n",
    "The intermediate results are saved in JSON so they can be reused without requiring the models to be rerun, which saves time and reduces costs.\n"
   ]
  },
  {
   "cell_type": "code",
   "execution_count": 140,
   "id": "c9e2bb8c",
   "metadata": {},
   "outputs": [],
   "source": [
    "MODELS = [\n",
    "    ('gpt-41', extractor_gpt41),\n",
    "    ('gpt-41-nano', extractor_gpt41_nano),\n",
    "    ('gpt-41-mini', extractor_gpt41_mini),\n",
    "    ('gpt-35', extractor_gpt35),\n",
    "    ('gpt-4o', extractor_gpt4o),\n",
    "    ('gpt-4-turbo', extractor_gpt4_turbo)\n",
    "]\n",
    "models_names = [x[0] for x in MODELS]\n"
   ]
  },
  {
   "cell_type": "code",
   "execution_count": 141,
   "id": "34a5dfb2",
   "metadata": {},
   "outputs": [
    {
     "data": {
      "text/plain": [
       "['gpt-41', 'gpt-41-nano', 'gpt-41-mini', 'gpt-35', 'gpt-4o', 'gpt-4-turbo']"
      ]
     },
     "execution_count": 141,
     "metadata": {},
     "output_type": "execute_result"
    }
   ],
   "source": [
    "models_names"
   ]
  },
  {
   "cell_type": "code",
   "execution_count": 58,
   "id": "75a71656",
   "metadata": {},
   "outputs": [],
   "source": [
    "model_index = []\n",
    "for m in models_names:\n",
    "    model_index.extend(list(zip([m] * len(df_decicontas.index), df_decicontas.index)))\n",
    "df_checked = pd.DataFrame(model_index, columns=['model', 'index'])\n",
    "df_checked[\"checked\"] = False"
   ]
  },
  {
   "cell_type": "code",
   "execution_count": 63,
   "id": "5c110230",
   "metadata": {},
   "outputs": [
    {
     "data": {
      "text/plain": [
       "(1425, 4275, 3)"
      ]
     },
     "execution_count": 63,
     "metadata": {},
     "output_type": "execute_result"
    }
   ],
   "source": [
    "len(df_decicontas.index), len(df_checked.index), len(models_names)"
   ]
  },
  {
   "cell_type": "code",
   "execution_count": 50,
   "id": "f8c563af",
   "metadata": {},
   "outputs": [],
   "source": [
    "models_results = []\n",
    "\n",
    "df_results = pd.DataFrame(columns=['index', 'text', 'pred', 'golden', 'model'])"
   ]
  },
  {
   "cell_type": "code",
   "execution_count": 91,
   "id": "80b375c3",
   "metadata": {},
   "outputs": [
    {
     "data": {
      "text/plain": [
       "138"
      ]
     },
     "execution_count": 91,
     "metadata": {},
     "output_type": "execute_result"
    }
   ],
   "source": [
    "len(df_checked[df_checked['checked']])"
   ]
  },
  {
   "cell_type": "code",
   "execution_count": 90,
   "id": "d7ed0974",
   "metadata": {},
   "outputs": [
    {
     "data": {
      "text/html": [
       "<div>\n",
       "<style scoped>\n",
       "    .dataframe tbody tr th:only-of-type {\n",
       "        vertical-align: middle;\n",
       "    }\n",
       "\n",
       "    .dataframe tbody tr th {\n",
       "        vertical-align: top;\n",
       "    }\n",
       "\n",
       "    .dataframe thead th {\n",
       "        text-align: right;\n",
       "    }\n",
       "</style>\n",
       "<table border=\"1\" class=\"dataframe\">\n",
       "  <thead>\n",
       "    <tr style=\"text-align: right;\">\n",
       "      <th></th>\n",
       "      <th>index</th>\n",
       "      <th>text</th>\n",
       "      <th>pred</th>\n",
       "      <th>golden</th>\n",
       "      <th>model</th>\n",
       "    </tr>\n",
       "  </thead>\n",
       "  <tbody>\n",
       "    <tr>\n",
       "      <th>0</th>\n",
       "      <td>0</td>\n",
       "      <td>DECIDEM os Conselheiros do Tribunal de Contas ...</td>\n",
       "      <td>{'multas': [], 'ressarcimentos': [], 'obrigaco...</td>\n",
       "      <td>[]</td>\n",
       "      <td>gpt-41</td>\n",
       "    </tr>\n",
       "    <tr>\n",
       "      <th>1</th>\n",
       "      <td>1</td>\n",
       "      <td>DECIDEM os Conselheiros do Tribunal de Contas ...</td>\n",
       "      <td>{'multas': [], 'ressarcimentos': [], 'obrigaco...</td>\n",
       "      <td>[]</td>\n",
       "      <td>gpt-41</td>\n",
       "    </tr>\n",
       "    <tr>\n",
       "      <th>2</th>\n",
       "      <td>2</td>\n",
       "      <td>DECIDEM os Conselheiros do Tribunal de Contas ...</td>\n",
       "      <td>{'multas': [], 'ressarcimentos': [], 'obrigaco...</td>\n",
       "      <td>[]</td>\n",
       "      <td>gpt-41</td>\n",
       "    </tr>\n",
       "    <tr>\n",
       "      <th>3</th>\n",
       "      <td>3</td>\n",
       "      <td>DECIDEM os Conselheiros do Tribunal de Contas ...</td>\n",
       "      <td>{'multas': [], 'ressarcimentos': [], 'obrigaco...</td>\n",
       "      <td>[]</td>\n",
       "      <td>gpt-41</td>\n",
       "    </tr>\n",
       "    <tr>\n",
       "      <th>4</th>\n",
       "      <td>4</td>\n",
       "      <td>DECIDEM os Conselheiros do Tribunal de Contas ...</td>\n",
       "      <td>{'multas': [], 'ressarcimentos': [], 'obrigaco...</td>\n",
       "      <td>[]</td>\n",
       "      <td>gpt-41</td>\n",
       "    </tr>\n",
       "    <tr>\n",
       "      <th>...</th>\n",
       "      <td>...</td>\n",
       "      <td>...</td>\n",
       "      <td>...</td>\n",
       "      <td>...</td>\n",
       "      <td>...</td>\n",
       "    </tr>\n",
       "    <tr>\n",
       "      <th>133</th>\n",
       "      <td>133</td>\n",
       "      <td>DECIDEM os Conselheiros do Tribunal de Contas ...</td>\n",
       "      <td>{'multas': [], 'ressarcimentos': [], 'obrigaco...</td>\n",
       "      <td>[]</td>\n",
       "      <td>gpt-41</td>\n",
       "    </tr>\n",
       "    <tr>\n",
       "      <th>134</th>\n",
       "      <td>134</td>\n",
       "      <td>DECIDEM os Conselheiros do Tribunal de Contas ...</td>\n",
       "      <td>{'multas': [], 'ressarcimentos': [], 'obrigaco...</td>\n",
       "      <td>[]</td>\n",
       "      <td>gpt-41</td>\n",
       "    </tr>\n",
       "    <tr>\n",
       "      <th>135</th>\n",
       "      <td>135</td>\n",
       "      <td>DECIDEM os Conselheiros do Tribunal de Contas ...</td>\n",
       "      <td>{'multas': [], 'ressarcimentos': [], 'obrigaco...</td>\n",
       "      <td>[]</td>\n",
       "      <td>gpt-41</td>\n",
       "    </tr>\n",
       "    <tr>\n",
       "      <th>136</th>\n",
       "      <td>136</td>\n",
       "      <td>DECIDEM os Conselheiros do Tribunal de Contas ...</td>\n",
       "      <td>{'multas': [], 'ressarcimentos': [], 'obrigaco...</td>\n",
       "      <td>[]</td>\n",
       "      <td>gpt-41</td>\n",
       "    </tr>\n",
       "    <tr>\n",
       "      <th>137</th>\n",
       "      <td>137</td>\n",
       "      <td>DECIDEM os Conselheiros do Tribunal de Contas ...</td>\n",
       "      <td>{'multas': [], 'ressarcimentos': [], 'obrigaco...</td>\n",
       "      <td>[]</td>\n",
       "      <td>gpt-41</td>\n",
       "    </tr>\n",
       "  </tbody>\n",
       "</table>\n",
       "<p>138 rows × 5 columns</p>\n",
       "</div>"
      ],
      "text/plain": [
       "    index                                               text  \\\n",
       "0       0  DECIDEM os Conselheiros do Tribunal de Contas ...   \n",
       "1       1  DECIDEM os Conselheiros do Tribunal de Contas ...   \n",
       "2       2  DECIDEM os Conselheiros do Tribunal de Contas ...   \n",
       "3       3  DECIDEM os Conselheiros do Tribunal de Contas ...   \n",
       "4       4  DECIDEM os Conselheiros do Tribunal de Contas ...   \n",
       "..    ...                                                ...   \n",
       "133   133  DECIDEM os Conselheiros do Tribunal de Contas ...   \n",
       "134   134  DECIDEM os Conselheiros do Tribunal de Contas ...   \n",
       "135   135  DECIDEM os Conselheiros do Tribunal de Contas ...   \n",
       "136   136  DECIDEM os Conselheiros do Tribunal de Contas ...   \n",
       "137   137  DECIDEM os Conselheiros do Tribunal de Contas ...   \n",
       "\n",
       "                                                  pred golden   model  \n",
       "0    {'multas': [], 'ressarcimentos': [], 'obrigaco...     []  gpt-41  \n",
       "1    {'multas': [], 'ressarcimentos': [], 'obrigaco...     []  gpt-41  \n",
       "2    {'multas': [], 'ressarcimentos': [], 'obrigaco...     []  gpt-41  \n",
       "3    {'multas': [], 'ressarcimentos': [], 'obrigaco...     []  gpt-41  \n",
       "4    {'multas': [], 'ressarcimentos': [], 'obrigaco...     []  gpt-41  \n",
       "..                                                 ...    ...     ...  \n",
       "133  {'multas': [], 'ressarcimentos': [], 'obrigaco...     []  gpt-41  \n",
       "134  {'multas': [], 'ressarcimentos': [], 'obrigaco...     []  gpt-41  \n",
       "135  {'multas': [], 'ressarcimentos': [], 'obrigaco...     []  gpt-41  \n",
       "136  {'multas': [], 'ressarcimentos': [], 'obrigaco...     []  gpt-41  \n",
       "137  {'multas': [], 'ressarcimentos': [], 'obrigaco...     []  gpt-41  \n",
       "\n",
       "[138 rows x 5 columns]"
      ]
     },
     "execution_count": 90,
     "metadata": {},
     "output_type": "execute_result"
    }
   ],
   "source": [
    "df_results"
   ]
  },
  {
   "cell_type": "code",
   "execution_count": null,
   "id": "95bfbd92",
   "metadata": {},
   "outputs": [
    {
     "name": "stdout",
     "output_type": "stream",
     "text": [
      "Extracting gpt-41 results\n"
     ]
    },
    {
     "name": "stderr",
     "output_type": "stream",
     "text": [
      "gpt-41: 0instance [00:00, ?instance/s]\n"
     ]
    },
    {
     "name": "stdout",
     "output_type": "stream",
     "text": [
      "Extracting gpt-41-nano results\n"
     ]
    },
    {
     "name": "stderr",
     "output_type": "stream",
     "text": [
      "gpt-41-nano:   1%|▏         | 8/571 [00:18<13:32,  1.44s/instance]  "
     ]
    },
    {
     "name": "stdout",
     "output_type": "stream",
     "text": [
      "Error at index 862: 1 validation error for NERDecisao\n",
      "recomendacoes.0\n",
      "  Input should be a valid dictionary or instance of NERRecomendacao [type=model_type, input_value='Destaca a desnecessidade... à Justiça Eleitoral.', input_type=str]\n",
      "    For further information visit https://errors.pydantic.dev/2.11/v/model_type\n",
      "Error at index 862: 1 validation error for NERDecisao\n",
      "recomendacoes.0\n",
      "  Input should be a valid dictionary or instance of NERRecomendacao [type=model_type, input_value='destaca a desnecessidade... à Justiça Eleitoral.', input_type=str]\n",
      "    For further information visit https://errors.pydantic.dev/2.11/v/model_type\n",
      "Error at index 862: 1 validation error for NERDecisao\n",
      "recomendacoes.0\n",
      "  Input should be a valid dictionary or instance of NERRecomendacao [type=model_type, input_value='Destaca a desnecessidade... à Justiça Eleitoral.', input_type=str]\n",
      "    For further information visit https://errors.pydantic.dev/2.11/v/model_type\n",
      "Error at index 862: 1 validation error for NERDecisao\n",
      "recomendacoes.0\n",
      "  Input should be a valid dictionary or instance of NERRecomendacao [type=model_type, input_value='destaca a desnecessidade... à Justiça Eleitoral.', input_type=str]\n",
      "    For further information visit https://errors.pydantic.dev/2.11/v/model_type\n"
     ]
    },
    {
     "name": "stderr",
     "output_type": "stream",
     "text": [
      "gpt-41-nano:  72%|███████▏  | 413/571 [08:42<02:09,  1.22instance/s] "
     ]
    },
    {
     "name": "stdout",
     "output_type": "stream",
     "text": [
      "Error at index 1267: 1 validation error for NERDecisao\n",
      "obrigacoes.2.descricao_obrigacao\n",
      "  Field required [type=missing, input_value={'descricao_recomendacao'...tábeis do Município.'}, input_type=dict]\n",
      "    For further information visit https://errors.pydantic.dev/2.11/v/missing\n"
     ]
    },
    {
     "name": "stderr",
     "output_type": "stream",
     "text": [
      "gpt-41-nano:  85%|████████▍ | 483/571 [09:55<01:31,  1.04s/instance]"
     ]
    },
    {
     "name": "stdout",
     "output_type": "stream",
     "text": [
      "Error at index 1337: 1 validation error for NERDecisao\n",
      "multas.1\n",
      "  Input should be a valid dictionary or instance of NERMulta [type=model_type, input_value='{', input_type=str]\n",
      "    For further information visit https://errors.pydantic.dev/2.11/v/model_type\n"
     ]
    },
    {
     "name": "stderr",
     "output_type": "stream",
     "text": [
      "gpt-41-nano: 100%|██████████| 571/571 [13:34<00:00,  1.43s/instance]\n"
     ]
    },
    {
     "name": "stdout",
     "output_type": "stream",
     "text": [
      "Extracting gpt-41-mini results\n"
     ]
    },
    {
     "name": "stderr",
     "output_type": "stream",
     "text": [
      "gpt-41-mini: 100%|██████████| 1425/1425 [38:31<00:00,  1.62s/instance] \n"
     ]
    }
   ],
   "source": [
    "for model_name, model_extractor in MODELS:\n",
    "    print(f\"Extracting {model_name} results\")\n",
    "\n",
    "    df_results = pd.DataFrame(columns=['index', 'text', 'pred', 'golden', 'model'])\n",
    "\n",
    "    rows_to_process = [\n",
    "        (index, row) for index, row in df_decicontas.iterrows()\n",
    "        if not df_checked.loc[(df_checked['model'] == model_name) & (df_checked['index'] == index), 'checked'].values[0]\n",
    "    ]\n",
    "\n",
    "    for index, row in tqdm(rows_to_process, desc=f\"{model_name}\", unit=\"instance\"):\n",
    "        prompt_with_few_shot = generate_few_shot_ner_prompts(row['data']['text'])\n",
    "\n",
    "        success = False\n",
    "        while not success:\n",
    "            try:\n",
    "                result = model_extractor.invoke(prompt_with_few_shot)\n",
    "                success = True\n",
    "            except Exception as e:\n",
    "                print(f\"Error at index {index}: {e}\")\n",
    "                time.sleep(3)\n",
    "\n",
    "        extracted_result = pd.DataFrame([{\n",
    "            'index': index,\n",
    "            'text': row['data']['text'],\n",
    "            'pred': result.model_dump(),\n",
    "            'golden': [r['value'] for r in row['annotations'][0]['result']],\n",
    "            'model': model_name\n",
    "        }])\n",
    "        df_results = pd.concat([df_results, extracted_result], ignore_index=True)\n",
    "        \n",
    "        df_checked.loc[(df_checked['model'] == model_name) & (df_checked['index'] == index), 'checked'] = True\n",
    "    \n",
    "    df_results.to_json(f\"dataset/labeled_data/models_results_decicontas_{model_name}.json\", orient=\"records\", force_ascii=False, indent=2)"
   ]
  },
  {
   "cell_type": "markdown",
   "id": "df121db5",
   "metadata": {},
   "source": [
    "# Assessing the metrics\n",
    "\n",
    "To measure the models’ performance, the script uses two main evaluation strategies:\n",
    "\n",
    "- **Token-level (seqeval)**: based on token segmentation, measuring precision, recall, and F1 using the IOB scheme.\n",
    "- **Span-level IoU (Intersection over Union)**: computing the overlap between predicted spans and gold-standard spans, taking entity type into account. A threshold of IoU ≥ 0.5 is considered a valid match.\n",
    "\n",
    "Additionally, the script reports aggregate metrics and also details them by label, showing the number of matching spans between predictions and ground truth. This allows a clearer view of each model’s behavior per entity type (MULTA, OBRIGACAO, RECOMENDACAO, RESSARCIMENTO).\n"
   ]
  },
  {
   "cell_type": "code",
   "execution_count": 134,
   "id": "21847ad3",
   "metadata": {},
   "outputs": [],
   "source": [
    "df_models = pd.concat([pd.read_json(f\"dataset/labeled_data/models_results_decicontas_{model_name}.json\") for model_name in models_names], ignore_index=True)"
   ]
  },
  {
   "cell_type": "code",
   "execution_count": 135,
   "id": "61a1e08b",
   "metadata": {},
   "outputs": [
    {
     "data": {
      "text/plain": [
       "(8550,\n",
       " array(['gpt-41', 'gpt-41-nano', 'gpt-41-mini', 'gpt-35', 'gpt-4o',\n",
       "        'gpt-4-turbo'], dtype=object))"
      ]
     },
     "execution_count": 135,
     "metadata": {},
     "output_type": "execute_result"
    }
   ],
   "source": [
    "len(df_models), df_models['model'].unique()"
   ]
  },
  {
   "cell_type": "code",
   "execution_count": 136,
   "id": "dce98b20",
   "metadata": {},
   "outputs": [],
   "source": [
    "from rapidfuzz import fuzz\n",
    "\n",
    "DICT_LABELS = {\n",
    "    \"obrigacoes\": \"OBRIGACAO\",\n",
    "    \"recomendacoes\": \"RECOMENDACAO\",\n",
    "    \"ressarcimentos\": \"RESSARCIMENTO\",\n",
    "    \"multas\": \"MULTA\",\n",
    "}\n",
    "\n",
    "def convert_pred_to_golden_format(row, window_size=500, step_size=100, min_score=80):\n",
    "    pred_spans = []\n",
    "    text = row['text']\n",
    "    pred = row['pred']\n",
    "    \n",
    "    for label_type, spans in pred.items():\n",
    "        for span in spans:\n",
    "            if not isinstance(span, dict):\n",
    "                continue\n",
    "            span_text = (\n",
    "                span.get(\"descricao_multa\")\n",
    "                or span.get(\"descricao_obrigacao\")\n",
    "                or span.get(\"descricao_ressarcimento\")\n",
    "                or span.get(\"descricao_recomendacao\")\n",
    "            )\n",
    "            if not span_text:\n",
    "                continue\n",
    "            \n",
    "            best_score = 0\n",
    "            best_pos = -1\n",
    "            best_substring = \"\"\n",
    "            \n",
    "            # sliding window search\n",
    "            for start in range(0, len(text), step_size):\n",
    "                window = text[start:start+window_size]\n",
    "                score = fuzz.partial_ratio(span_text, window)\n",
    "                if score > best_score and score >= min_score:\n",
    "                    best_score = score\n",
    "                    best_pos = start + window.find(span_text.split()[0]) if span_text.split() else start\n",
    "                    best_substring = span_text\n",
    "            \n",
    "            if best_score >= min_score and best_pos >= 0:\n",
    "                pred_spans.append({\n",
    "                    \"start\": best_pos,\n",
    "                    \"end\": best_pos + len(best_substring),\n",
    "                    \"text\": best_substring,\n",
    "                    \"labels\": [DICT_LABELS[label_type]]\n",
    "                })\n",
    "                \n",
    "    return pred_spans\n"
   ]
  },
  {
   "cell_type": "code",
   "execution_count": 137,
   "id": "06a69e3d",
   "metadata": {},
   "outputs": [],
   "source": [
    "df_models['pred_as_golden'] = df_models.apply(\n",
    "    lambda row: convert_pred_to_golden_format(row, window_size=500, step_size=100, min_score=80),\n",
    "    axis=1\n",
    ")"
   ]
  },
  {
   "cell_type": "code",
   "execution_count": 138,
   "id": "67621336",
   "metadata": {},
   "outputs": [],
   "source": [
    "from seqeval.metrics import precision_score, recall_score, f1_score, classification_report\n",
    "from collections import defaultdict\n",
    "\n",
    "def compute_iou_score(span_a, span_b, label_a, label_b, threshold=0.5):\n",
    "    \"\"\"\n",
    "    Computes the IoU agreement score between two spans with labels,\n",
    "    as described in the definition you gave.\n",
    "    \"\"\"\n",
    "    s_a, e_a = span_a\n",
    "    s_b, e_b = span_b\n",
    "\n",
    "    # no overlap at all\n",
    "    if e_a < s_b or e_b < s_a:\n",
    "        return 0.0\n",
    "    \n",
    "    intersection = max(0, min(e_a, e_b) - max(s_a, s_b))\n",
    "    union = max(e_a, e_b) - min(s_a, s_b)\n",
    "    \n",
    "    iou = intersection / union if union > 0 else 0.0\n",
    "\n",
    "    if iou >= threshold:\n",
    "        delta = 1 if label_a == label_b else 0\n",
    "        return iou * delta\n",
    "    else:\n",
    "        return 0.0\n",
    "\n",
    "def calculate_metrics(df, iou_threshold=0.5):\n",
    "    from collections import defaultdict\n",
    "    from seqeval.metrics import precision_score, recall_score, f1_score, classification_report\n",
    "\n",
    "    y_true = []\n",
    "    y_pred = []\n",
    "    label_metrics = defaultdict(lambda: {\"total_gold\": 0, \"total_pred\": 0, \"matched\": 0})\n",
    "\n",
    "    for _, row in df.iterrows():\n",
    "        text = row['text']\n",
    "        true_labels = ['O'] * len(text)\n",
    "        pred_labels = ['O'] * len(text)\n",
    "\n",
    "        # gold\n",
    "        for ann in row['golden']:\n",
    "            start, end, label = ann['start'], ann['end'], ann['labels'][0]\n",
    "            if start < len(true_labels):\n",
    "                true_labels[start] = f\"B-{label}\"\n",
    "                for i in range(start+1, min(end, len(true_labels))):\n",
    "                    true_labels[i] = f\"I-{label}\"\n",
    "\n",
    "        # pred\n",
    "        for ann in row['pred_as_golden']:\n",
    "            start, end, label = ann['start'], ann['end'], ann['labels'][0]\n",
    "            if start < len(pred_labels):\n",
    "                pred_labels[start] = f\"B-{label}\"\n",
    "                for i in range(start+1, min(end, len(pred_labels))):\n",
    "                    pred_labels[i] = f\"I-{label}\"\n",
    "\n",
    "        y_true.append(true_labels)\n",
    "        y_pred.append(pred_labels)\n",
    "\n",
    "        gold_spans = [(ann['start'], ann['end'], ann['labels'][0]) for ann in row['golden']]\n",
    "        pred_spans = [(ann['start'], ann['end'], ann['labels'][0]) for ann in row['pred_as_golden']]\n",
    "\n",
    "        for g in gold_spans:\n",
    "            label_metrics[g[2]][\"total_gold\"] += 1\n",
    "        for p in pred_spans:\n",
    "            label_metrics[p[2]][\"total_pred\"] += 1\n",
    "\n",
    "        for p in pred_spans:\n",
    "            for g in gold_spans:\n",
    "                score = compute_iou_score(\n",
    "                    (p[0], p[1]), (g[0], g[1]),\n",
    "                    p[2], g[2],\n",
    "                    threshold=iou_threshold\n",
    "                )\n",
    "                if score > 0:\n",
    "                    label_metrics[p[2]][\"matched\"] += 1\n",
    "\n",
    "    # seqeval\n",
    "    token_prec = precision_score(y_true,y_pred)\n",
    "    token_rec  = recall_score(y_true,y_pred)\n",
    "    token_f1   = f1_score(y_true,y_pred)\n",
    "\n",
    "    print(\"====== SEQEVAL TOKEN-LEVEL ======\")\n",
    "    print(f\"Precision: {token_prec:.4f}\")\n",
    "    print(f\"Recall:    {token_rec:.4f}\")\n",
    "    print(f\"F1:        {token_f1:.4f}\")\n",
    "    print(classification_report(y_true,y_pred))\n",
    "\n",
    "    total_gold = sum(v[\"total_gold\"] for v in label_metrics.values())\n",
    "    total_pred = sum(v[\"total_pred\"] for v in label_metrics.values())\n",
    "    total_matched = sum(v[\"matched\"] for v in label_metrics.values())\n",
    "\n",
    "    iou_prec = total_matched / total_pred if total_pred > 0 else 0\n",
    "    iou_rec  = total_matched / total_gold if total_gold > 0 else 0\n",
    "    iou_f1   = 2*iou_prec*iou_rec/(iou_prec+iou_rec) if (iou_prec+iou_rec) > 0 else 0\n",
    "\n",
    "    print(\"====== SPAN-LEVEL IOU>=0.5 AGGREGATED ======\")\n",
    "    print(f\"Precision: {iou_prec:.4f}\")\n",
    "    print(f\"Recall:    {iou_rec:.4f}\")\n",
    "    print(f\"F1:        {iou_f1:.4f}\")\n",
    "\n",
    "    print(\"====== SPAN-LEVEL IOU PER LABEL ======\")\n",
    "    for label, m in label_metrics.items():\n",
    "        prec = m[\"matched\"] / m[\"total_pred\"] if m[\"total_pred\"] > 0 else 0\n",
    "        rec  = m[\"matched\"] / m[\"total_gold\"] if m[\"total_gold\"] > 0 else 0\n",
    "        f1   = 2*prec*rec/(prec+rec) if (prec+rec)>0 else 0\n",
    "        print(f\"{label}: P={prec:.4f} R={rec:.4f} F1={f1:.4f} ({m['matched']} matched)\")\n",
    "\n",
    "    return {\n",
    "        \"seqeval\": {\n",
    "            \"precision\": token_prec,\n",
    "            \"recall\": token_rec,\n",
    "            \"f1\": token_f1\n",
    "        },\n",
    "        \"iou_agg\": {\n",
    "            \"precision\": iou_prec,\n",
    "            \"recall\": iou_rec,\n",
    "            \"f1\": iou_f1\n",
    "        },\n",
    "        \"iou_per_label\": dict(label_metrics)\n",
    "    }\n"
   ]
  },
  {
   "cell_type": "code",
   "execution_count": 139,
   "id": "4da6d483",
   "metadata": {},
   "outputs": [
    {
     "name": "stdout",
     "output_type": "stream",
     "text": [
      "**********\n",
      "Calculating metrics for model: gpt-41\n",
      "\n",
      "====== SEQEVAL TOKEN-LEVEL ======\n",
      "Precision: 0.1209\n",
      "Recall:    0.1573\n",
      "F1:        0.1367\n",
      "               precision    recall  f1-score   support\n",
      "\n",
      "        MULTA       0.11      0.11      0.11       204\n",
      "    OBRIGACAO       0.04      0.07      0.06       120\n",
      " RECOMENDACAO       0.32      0.55      0.41        58\n",
      "RESSARCIMENTO       0.09      0.10      0.09        63\n",
      "\n",
      "    micro avg       0.12      0.16      0.14       445\n",
      "    macro avg       0.14      0.21      0.17       445\n",
      " weighted avg       0.12      0.16      0.13       445\n",
      "\n",
      "====== SPAN-LEVEL IOU>=0.5 AGGREGATED ======\n",
      "Precision: 0.6221\n",
      "Recall:    0.8472\n",
      "F1:        0.7174\n",
      "====== SPAN-LEVEL IOU PER LABEL ======\n",
      "OBRIGACAO: P=0.4706 R=0.8000 F1=0.5926 (96 matched)\n",
      "MULTA: P=0.7792 R=0.8824 F1=0.8276 (180 matched)\n",
      "RECOMENDACAO: P=0.5050 R=0.8793 F1=0.6415 (51 matched)\n",
      "RESSARCIMENTO: P=0.7143 R=0.7937 F1=0.7519 (50 matched)\n",
      "**********\n",
      "**********\n",
      "Calculating metrics for model: gpt-41-nano\n",
      "\n",
      "====== SEQEVAL TOKEN-LEVEL ======\n",
      "Precision: 0.0495\n",
      "Recall:    0.0809\n",
      "F1:        0.0614\n",
      "               precision    recall  f1-score   support\n",
      "\n",
      "        MULTA       0.14      0.15      0.15       204\n",
      "    OBRIGACAO       0.00      0.00      0.00       120\n",
      " RECOMENDACAO       0.02      0.05      0.03        58\n",
      "RESSARCIMENTO       0.03      0.03      0.03        63\n",
      "\n",
      "    micro avg       0.05      0.08      0.06       445\n",
      "    macro avg       0.05      0.06      0.05       445\n",
      " weighted avg       0.07      0.08      0.08       445\n",
      "\n",
      "====== SPAN-LEVEL IOU>=0.5 AGGREGATED ======\n",
      "Precision: 0.3461\n",
      "Recall:    0.5910\n",
      "F1:        0.4365\n",
      "====== SPAN-LEVEL IOU PER LABEL ======\n",
      "OBRIGACAO: P=0.1743 R=0.4417 F1=0.2500 (53 matched)\n",
      "MULTA: P=0.7198 R=0.8186 F1=0.7661 (167 matched)\n",
      "RECOMENDACAO: P=0.0878 R=0.2241 F1=0.1262 (13 matched)\n",
      "RESSARCIMENTO: P=0.3947 R=0.4762 F1=0.4317 (30 matched)\n",
      "**********\n",
      "**********\n",
      "Calculating metrics for model: gpt-41-mini\n",
      "\n",
      "====== SEQEVAL TOKEN-LEVEL ======\n",
      "Precision: 0.0896\n",
      "Recall:    0.1079\n",
      "F1:        0.0979\n",
      "               precision    recall  f1-score   support\n",
      "\n",
      "        MULTA       0.07      0.08      0.07       204\n",
      "    OBRIGACAO       0.04      0.05      0.04       120\n",
      " RECOMENDACAO       0.29      0.45      0.35        58\n",
      "RESSARCIMENTO       0.00      0.00      0.00        63\n",
      "\n",
      "    micro avg       0.09      0.11      0.10       445\n",
      "    macro avg       0.10      0.14      0.12       445\n",
      " weighted avg       0.08      0.11      0.09       445\n",
      "\n",
      "====== SPAN-LEVEL IOU>=0.5 AGGREGATED ======\n",
      "Precision: 0.6608\n",
      "Recall:    0.8404\n",
      "F1:        0.7399\n",
      "====== SPAN-LEVEL IOU PER LABEL ======\n",
      "MULTA: P=0.7510 R=0.9167 F1=0.8256 (187 matched)\n",
      "OBRIGACAO: P=0.5590 R=0.7500 F1=0.6406 (90 matched)\n",
      "RECOMENDACAO: P=0.5652 R=0.8966 F1=0.6933 (52 matched)\n",
      "RESSARCIMENTO: P=0.7031 R=0.7143 F1=0.7087 (45 matched)\n",
      "**********\n",
      "**********\n",
      "Calculating metrics for model: gpt-35\n",
      "\n",
      "====== SEQEVAL TOKEN-LEVEL ======\n",
      "Precision: 0.1036\n",
      "Recall:    0.1281\n",
      "F1:        0.1146\n",
      "               precision    recall  f1-score   support\n",
      "\n",
      "        MULTA       0.10      0.11      0.10       204\n",
      "    OBRIGACAO       0.03      0.04      0.04       120\n",
      " RECOMENDACAO       0.30      0.45      0.36        58\n",
      "RESSARCIMENTO       0.05      0.06      0.06        63\n",
      "\n",
      "    micro avg       0.10      0.13      0.11       445\n",
      "    macro avg       0.12      0.17      0.14       445\n",
      " weighted avg       0.10      0.13      0.11       445\n",
      "\n",
      "====== SPAN-LEVEL IOU>=0.5 AGGREGATED ======\n",
      "Precision: 0.6370\n",
      "Recall:    0.8202\n",
      "F1:        0.7171\n",
      "====== SPAN-LEVEL IOU PER LABEL ======\n",
      "MULTA: P=0.7669 R=0.8873 F1=0.8227 (181 matched)\n",
      "OBRIGACAO: P=0.5030 R=0.7000 F1=0.5854 (84 matched)\n",
      "RECOMENDACAO: P=0.5843 R=0.8966 F1=0.7075 (52 matched)\n",
      "RESSARCIMENTO: P=0.5926 R=0.7619 F1=0.6667 (48 matched)\n",
      "**********\n",
      "**********\n",
      "Calculating metrics for model: gpt-4o\n",
      "\n",
      "====== SEQEVAL TOKEN-LEVEL ======\n",
      "Precision: 0.0880\n",
      "Recall:    0.1101\n",
      "F1:        0.0978\n",
      "               precision    recall  f1-score   support\n",
      "\n",
      "        MULTA       0.06      0.06      0.06       204\n",
      "    OBRIGACAO       0.03      0.05      0.04       120\n",
      " RECOMENDACAO       0.30      0.45      0.36        58\n",
      "RESSARCIMENTO       0.05      0.06      0.06        63\n",
      "\n",
      "    micro avg       0.09      0.11      0.10       445\n",
      "    macro avg       0.11      0.16      0.13       445\n",
      " weighted avg       0.08      0.11      0.09       445\n",
      "\n",
      "====== SPAN-LEVEL IOU>=0.5 AGGREGATED ======\n",
      "Precision: 0.6512\n",
      "Recall:    0.8517\n",
      "F1:        0.7381\n",
      "====== SPAN-LEVEL IOU PER LABEL ======\n",
      "MULTA: P=0.8077 R=0.9265 F1=0.8630 (189 matched)\n",
      "OBRIGACAO: P=0.4775 R=0.7083 F1=0.5705 (85 matched)\n",
      "RECOMENDACAO: P=0.6180 R=0.9483 F1=0.7483 (55 matched)\n",
      "RESSARCIMENTO: P=0.6173 R=0.7937 F1=0.6944 (50 matched)\n",
      "**********\n",
      "**********\n",
      "Calculating metrics for model: gpt-4-turbo\n",
      "\n",
      "====== SEQEVAL TOKEN-LEVEL ======\n",
      "Precision: 0.1002\n",
      "Recall:    0.1258\n",
      "F1:        0.1116\n",
      "               precision    recall  f1-score   support\n",
      "\n",
      "        MULTA       0.09      0.10      0.10       204\n",
      "    OBRIGACAO       0.03      0.05      0.04       120\n",
      " RECOMENDACAO       0.31      0.47      0.37        58\n",
      "RESSARCIMENTO       0.04      0.05      0.04        63\n",
      "\n",
      "    micro avg       0.10      0.13      0.11       445\n",
      "    macro avg       0.12      0.17      0.14       445\n",
      " weighted avg       0.10      0.13      0.11       445\n",
      "\n",
      "====== SPAN-LEVEL IOU>=0.5 AGGREGATED ======\n",
      "Precision: 0.6644\n",
      "Recall:    0.8674\n",
      "F1:        0.7524\n",
      "====== SPAN-LEVEL IOU PER LABEL ======\n",
      "MULTA: P=0.8147 R=0.9265 F1=0.8670 (189 matched)\n",
      "OBRIGACAO: P=0.4973 R=0.7583 F1=0.6007 (91 matched)\n",
      "RECOMENDACAO: P=0.6000 R=0.9310 F1=0.7297 (54 matched)\n",
      "RESSARCIMENTO: P=0.6842 R=0.8254 F1=0.7482 (52 matched)\n",
      "**********\n"
     ]
    }
   ],
   "source": [
    "metrics = dict()\n",
    "for m in models_names:\n",
    "    print(f\"**********\\nCalculating metrics for model: {m}\\n\")\n",
    "    df_model = df_models[df_models['model'] == m]\n",
    "    metrics[m] = calculate_metrics(df_model, iou_threshold=0.5)\n",
    "    print(f\"**********\")"
   ]
  },
  {
   "cell_type": "markdown",
   "id": "d11c8741",
   "metadata": {},
   "source": [
    "# Final Metrics\n",
    "\n",
    "The experiment evaluated six GPT-based LLMs on the `decicontas.br` dataset using both token-level (seqeval) and span-level (IoU ≥ 0.5) metrics. The table below summarizes the main results:\n",
    "\n",
    "| Model          | Token-level F1 | Span-level F1 |\n",
    "|----------------|----------------|---------------|\n",
    "| gpt-4-turbo    | 0.1116         | **0.7524**    |\n",
    "| gpt-4o         | 0.0978         | 0.7381        |\n",
    "| gpt-41-mini    | 0.0979         | 0.7399        |\n",
    "| gpt-41         | **0.1367**     | 0.7174        |\n",
    "| gpt-35         | 0.1146         | 0.7171        |\n",
    "| gpt-41-nano    | 0.0614         | 0.4365        |\n",
    "\n",
    "Despite modest F1 scores at the token level—due to the strictness of the IOB tagging scheme—all models except `gpt-41-nano` achieved strong performance at the span level, with F1 scores above 0.71. Notably, `gpt-4-turbo` yielded the best overall span-level F1 (75.24%), followed closely by `gpt-41-mini` (73.99%) and `gpt-4o` (73.81%).\n",
    "\n",
    "For specific entity types, `gpt-4-turbo` showed the highest F1 for `MULTA` (86.7%) and `RESSARCIMENTO` (74.8%), while `gpt-41-mini` achieved the best performance for `OBRIGACAO` (64.06%). The `gpt-41-nano` model underperformed across the board, especially in token-level accuracy and obligation extraction.\n",
    "\n",
    "These findings confirm the feasibility of leveraging LLMs to pre-label legal audit decisions with high span-level accuracy, similarly to what has been done in healthcare NER tasks (e.g., LexCare.br). This reduces the need for fully manual annotation and supports scalable legal text processing workflows in Portuguese.\n"
   ]
  },
  {
   "cell_type": "markdown",
   "id": "6222554f",
   "metadata": {},
   "source": []
  }
 ],
 "metadata": {
  "kernelspec": {
   "display_name": ".venv (3.12.3)",
   "language": "python",
   "name": "python3"
  },
  "language_info": {
   "codemirror_mode": {
    "name": "ipython",
    "version": 3
   },
   "file_extension": ".py",
   "mimetype": "text/x-python",
   "name": "python",
   "nbconvert_exporter": "python",
   "pygments_lexer": "ipython3",
   "version": "3.12.3"
  }
 },
 "nbformat": 4,
 "nbformat_minor": 5
}
