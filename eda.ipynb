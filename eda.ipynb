{
 "cells": [
  {
   "cell_type": "markdown",
   "id": "3688983e",
   "metadata": {},
   "source": [
    "# Exploratory Data Analysis for the DeciContas.br Dataset\n",
    "\n",
    "This notebook contains the complete exploratory data analysis (EDA) performed to support the development of the DeciContas.br paper. It includes all relevant data inspection, preprocessing insights, and initial findings used to inform the research and writing process.\n"
   ]
  },
  {
   "cell_type": "code",
   "execution_count": 2,
   "id": "765d459d",
   "metadata": {},
   "outputs": [],
   "source": [
    "import pandas as pd"
   ]
  },
  {
   "cell_type": "code",
   "execution_count": 25,
   "id": "c7212a21",
   "metadata": {},
   "outputs": [],
   "source": [
    "df = pd.read_json(\"labeling/labeled_tcern_decisoes_2024.json\")\n",
    "annot = [item for sublist in df[\"annotations\"].tolist() for item in sublist]\n",
    "df_annot = pd.DataFrame(annot)"
   ]
  },
  {
   "cell_type": "code",
   "execution_count": 51,
   "id": "46ad9660",
   "metadata": {},
   "outputs": [
    {
     "data": {
      "text/html": [
       "<div>\n",
       "<style scoped>\n",
       "    .dataframe tbody tr th:only-of-type {\n",
       "        vertical-align: middle;\n",
       "    }\n",
       "\n",
       "    .dataframe tbody tr th {\n",
       "        vertical-align: top;\n",
       "    }\n",
       "\n",
       "    .dataframe thead th {\n",
       "        text-align: right;\n",
       "    }\n",
       "</style>\n",
       "<table border=\"1\" class=\"dataframe\">\n",
       "  <thead>\n",
       "    <tr style=\"text-align: right;\">\n",
       "      <th></th>\n",
       "      <th>label</th>\n",
       "      <th>count</th>\n",
       "    </tr>\n",
       "  </thead>\n",
       "  <tbody>\n",
       "    <tr>\n",
       "      <th>0</th>\n",
       "      <td>MULTA_FIXA</td>\n",
       "      <td>118</td>\n",
       "    </tr>\n",
       "    <tr>\n",
       "      <th>3</th>\n",
       "      <td>OBRIGACAO_MULTA</td>\n",
       "      <td>65</td>\n",
       "    </tr>\n",
       "    <tr>\n",
       "      <th>4</th>\n",
       "      <td>RECOMENDACAO</td>\n",
       "      <td>55</td>\n",
       "    </tr>\n",
       "    <tr>\n",
       "      <th>2</th>\n",
       "      <td>OBRIGACAO</td>\n",
       "      <td>51</td>\n",
       "    </tr>\n",
       "    <tr>\n",
       "      <th>1</th>\n",
       "      <td>MULTA_PERCENTUAL</td>\n",
       "      <td>3</td>\n",
       "    </tr>\n",
       "    <tr>\n",
       "      <th>5</th>\n",
       "      <td>RESSARCIMENTO</td>\n",
       "      <td>2</td>\n",
       "    </tr>\n",
       "  </tbody>\n",
       "</table>\n",
       "</div>"
      ],
      "text/plain": [
       "              label  count\n",
       "0        MULTA_FIXA    118\n",
       "3   OBRIGACAO_MULTA     65\n",
       "4      RECOMENDACAO     55\n",
       "2         OBRIGACAO     51\n",
       "1  MULTA_PERCENTUAL      3\n",
       "5     RESSARCIMENTO      2"
      ]
     },
     "execution_count": 51,
     "metadata": {},
     "output_type": "execute_result"
    }
   ],
   "source": [
    "labels_seen = []\n",
    "for i,r in df_annot.iterrows():\n",
    "    if r['result'] != []:\n",
    "        labels_seen.append(r['result'])\n",
    "labels_seen = [item for sublist in labels_seen for item in sublist]\n",
    "df_labels = pd.DataFrame([l['value']['labels'][0] for l in labels_seen], columns=['label'])\n",
    "df_labels.groupby('label').size().reset_index(name='count').sort_values(by='count', ascending=False)"
   ]
  },
  {
   "cell_type": "code",
   "execution_count": null,
   "id": "20aa4613",
   "metadata": {},
   "outputs": [],
   "source": []
  },
  {
   "cell_type": "code",
   "execution_count": null,
   "id": "06f9b411",
   "metadata": {},
   "outputs": [],
   "source": []
  }
 ],
 "metadata": {
  "kernelspec": {
   "display_name": ".venv",
   "language": "python",
   "name": "python3"
  },
  "language_info": {
   "codemirror_mode": {
    "name": "ipython",
    "version": 3
   },
   "file_extension": ".py",
   "mimetype": "text/x-python",
   "name": "python",
   "nbconvert_exporter": "python",
   "pygments_lexer": "ipython3",
   "version": "3.12.3"
  }
 },
 "nbformat": 4,
 "nbformat_minor": 5
}
